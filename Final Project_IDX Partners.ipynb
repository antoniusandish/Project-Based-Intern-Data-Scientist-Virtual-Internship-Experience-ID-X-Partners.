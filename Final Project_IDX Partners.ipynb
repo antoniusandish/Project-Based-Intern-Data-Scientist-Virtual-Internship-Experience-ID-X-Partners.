{
 "cells": [
  {
   "cell_type": "markdown",
   "id": "82706dc0",
   "metadata": {},
   "source": [
    "# FINAL TASK_DATA SCIENTIST ID/X PARTNERS"
   ]
  },
  {
   "cell_type": "markdown",
   "id": "bfa0fda5",
   "metadata": {},
   "source": [
    "Antonius Andi Syah Putra Halawa"
   ]
  },
  {
   "cell_type": "markdown",
   "id": "561bd31f",
   "metadata": {},
   "source": [
    "## Credit Risk Prediction"
   ]
  },
  {
   "cell_type": "markdown",
   "id": "2f9565b1",
   "metadata": {},
   "source": [
    "Data Science Workﬂow\n",
    "* Business Understanding\n",
    "* Analytic Approach\n",
    "* Data Requirements\n",
    "* Data Collection\n",
    "* Data Understanding\n",
    "* Data Preparation\n",
    "* Exploratory Data Analysis\n",
    "* Model Building\n",
    "* Model Evaluation\n",
    "* Model Deployment"
   ]
  },
  {
   "cell_type": "markdown",
   "id": "618c980e",
   "metadata": {},
   "source": [
    "## Business Understanding"
   ]
  },
  {
   "cell_type": "markdown",
   "id": "c52340d1",
   "metadata": {},
   "source": [
    "Credit risk is the risk of loss due to a borrower's failure to make payments on a loan or meet other financial obligations. In other words, credit risk is the possibility that a borrower will default on their debt obligations, causing the lender or investor to lose some or all of their investment.\n",
    "\n",
    "Credit risk is a significant concern for lenders, as it can have a significant impact on their financial performance. To manage credit risk, lenders use a variety of tools and techniques, including credit scoring, risk assessment, and loan monitoring. They may also require collateral or other forms of security to reduce their risk exposure.\n",
    "\n",
    "Credit risk is present in all types of lending, including personal loans, business loans, and mortgages. It is also a concern for investors who purchase bonds or other debt securities, as the issuer's ability to repay the debt depends on their creditworthiness.\n",
    "\n",
    "Effective credit risk management is critical for the stability and health of financial institutions, as well as for the overall economy."
   ]
  },
  {
   "cell_type": "markdown",
   "id": "f41eb5cb",
   "metadata": {},
   "source": [
    "## Analytic Approach"
   ]
  },
  {
   "cell_type": "markdown",
   "id": "c9e6d683",
   "metadata": {},
   "source": [
    "* Predictive Model; Supervised Learning"
   ]
  },
  {
   "cell_type": "markdown",
   "id": "553cdd07",
   "metadata": {},
   "source": [
    "## Data Requirements"
   ]
  },
  {
   "cell_type": "markdown",
   "id": "a668ad8b",
   "metadata": {},
   "source": [
    "* Lending Company"
   ]
  },
  {
   "cell_type": "markdown",
   "id": "0ce2796b",
   "metadata": {},
   "source": [
    "## Data Understanding"
   ]
  },
  {
   "cell_type": "markdown",
   "id": "3c43008c",
   "metadata": {},
   "source": [
    "### Libraries"
   ]
  },
  {
   "cell_type": "code",
   "execution_count": 2,
   "id": "2044621d",
   "metadata": {},
   "outputs": [],
   "source": [
    "import pandas as pd             # To work with dataset\n",
    "import numpy as np              # math library\n",
    "import matplotlib.pyplot as plt # to plot some parameters in seaborn\n",
    "import seaborn as sns           # Graph library that use matplot in background"
   ]
  },
  {
   "cell_type": "markdown",
   "id": "5c8d4a0c",
   "metadata": {},
   "source": [
    "### Importing Data"
   ]
  },
  {
   "cell_type": "code",
   "execution_count": 3,
   "id": "b317313d",
   "metadata": {},
   "outputs": [
    {
     "name": "stderr",
     "output_type": "stream",
     "text": [
      "C:\\Programming\\Anaconda\\lib\\site-packages\\IPython\\core\\interactiveshell.py:3444: DtypeWarning: Columns (20) have mixed types.Specify dtype option on import or set low_memory=False.\n",
      "  exec(code_obj, self.user_global_ns, self.user_ns)\n"
     ]
    }
   ],
   "source": [
    "# Load the data \n",
    "\n",
    "df = pd.read_csv('loan_data_2007_2014.csv') "
   ]
  },
  {
   "cell_type": "markdown",
   "id": "bfa0b53a",
   "metadata": {},
   "source": [
    "### Exploring Data"
   ]
  },
  {
   "cell_type": "code",
   "execution_count": 4,
   "id": "4b898077",
   "metadata": {},
   "outputs": [
    {
     "data": {
      "text/html": [
       "<div>\n",
       "<style scoped>\n",
       "    .dataframe tbody tr th:only-of-type {\n",
       "        vertical-align: middle;\n",
       "    }\n",
       "\n",
       "    .dataframe tbody tr th {\n",
       "        vertical-align: top;\n",
       "    }\n",
       "\n",
       "    .dataframe thead th {\n",
       "        text-align: right;\n",
       "    }\n",
       "</style>\n",
       "<table border=\"1\" class=\"dataframe\">\n",
       "  <thead>\n",
       "    <tr style=\"text-align: right;\">\n",
       "      <th></th>\n",
       "      <th>Unnamed: 0</th>\n",
       "      <th>id</th>\n",
       "      <th>member_id</th>\n",
       "      <th>loan_amnt</th>\n",
       "      <th>funded_amnt</th>\n",
       "      <th>funded_amnt_inv</th>\n",
       "      <th>term</th>\n",
       "      <th>int_rate</th>\n",
       "      <th>installment</th>\n",
       "      <th>grade</th>\n",
       "      <th>...</th>\n",
       "      <th>total_bal_il</th>\n",
       "      <th>il_util</th>\n",
       "      <th>open_rv_12m</th>\n",
       "      <th>open_rv_24m</th>\n",
       "      <th>max_bal_bc</th>\n",
       "      <th>all_util</th>\n",
       "      <th>total_rev_hi_lim</th>\n",
       "      <th>inq_fi</th>\n",
       "      <th>total_cu_tl</th>\n",
       "      <th>inq_last_12m</th>\n",
       "    </tr>\n",
       "  </thead>\n",
       "  <tbody>\n",
       "    <tr>\n",
       "      <th>0</th>\n",
       "      <td>0</td>\n",
       "      <td>1077501</td>\n",
       "      <td>1296599</td>\n",
       "      <td>5000</td>\n",
       "      <td>5000</td>\n",
       "      <td>4975.0</td>\n",
       "      <td>36 months</td>\n",
       "      <td>10.65</td>\n",
       "      <td>162.87</td>\n",
       "      <td>B</td>\n",
       "      <td>...</td>\n",
       "      <td>NaN</td>\n",
       "      <td>NaN</td>\n",
       "      <td>NaN</td>\n",
       "      <td>NaN</td>\n",
       "      <td>NaN</td>\n",
       "      <td>NaN</td>\n",
       "      <td>NaN</td>\n",
       "      <td>NaN</td>\n",
       "      <td>NaN</td>\n",
       "      <td>NaN</td>\n",
       "    </tr>\n",
       "    <tr>\n",
       "      <th>1</th>\n",
       "      <td>1</td>\n",
       "      <td>1077430</td>\n",
       "      <td>1314167</td>\n",
       "      <td>2500</td>\n",
       "      <td>2500</td>\n",
       "      <td>2500.0</td>\n",
       "      <td>60 months</td>\n",
       "      <td>15.27</td>\n",
       "      <td>59.83</td>\n",
       "      <td>C</td>\n",
       "      <td>...</td>\n",
       "      <td>NaN</td>\n",
       "      <td>NaN</td>\n",
       "      <td>NaN</td>\n",
       "      <td>NaN</td>\n",
       "      <td>NaN</td>\n",
       "      <td>NaN</td>\n",
       "      <td>NaN</td>\n",
       "      <td>NaN</td>\n",
       "      <td>NaN</td>\n",
       "      <td>NaN</td>\n",
       "    </tr>\n",
       "    <tr>\n",
       "      <th>2</th>\n",
       "      <td>2</td>\n",
       "      <td>1077175</td>\n",
       "      <td>1313524</td>\n",
       "      <td>2400</td>\n",
       "      <td>2400</td>\n",
       "      <td>2400.0</td>\n",
       "      <td>36 months</td>\n",
       "      <td>15.96</td>\n",
       "      <td>84.33</td>\n",
       "      <td>C</td>\n",
       "      <td>...</td>\n",
       "      <td>NaN</td>\n",
       "      <td>NaN</td>\n",
       "      <td>NaN</td>\n",
       "      <td>NaN</td>\n",
       "      <td>NaN</td>\n",
       "      <td>NaN</td>\n",
       "      <td>NaN</td>\n",
       "      <td>NaN</td>\n",
       "      <td>NaN</td>\n",
       "      <td>NaN</td>\n",
       "    </tr>\n",
       "    <tr>\n",
       "      <th>3</th>\n",
       "      <td>3</td>\n",
       "      <td>1076863</td>\n",
       "      <td>1277178</td>\n",
       "      <td>10000</td>\n",
       "      <td>10000</td>\n",
       "      <td>10000.0</td>\n",
       "      <td>36 months</td>\n",
       "      <td>13.49</td>\n",
       "      <td>339.31</td>\n",
       "      <td>C</td>\n",
       "      <td>...</td>\n",
       "      <td>NaN</td>\n",
       "      <td>NaN</td>\n",
       "      <td>NaN</td>\n",
       "      <td>NaN</td>\n",
       "      <td>NaN</td>\n",
       "      <td>NaN</td>\n",
       "      <td>NaN</td>\n",
       "      <td>NaN</td>\n",
       "      <td>NaN</td>\n",
       "      <td>NaN</td>\n",
       "    </tr>\n",
       "    <tr>\n",
       "      <th>4</th>\n",
       "      <td>4</td>\n",
       "      <td>1075358</td>\n",
       "      <td>1311748</td>\n",
       "      <td>3000</td>\n",
       "      <td>3000</td>\n",
       "      <td>3000.0</td>\n",
       "      <td>60 months</td>\n",
       "      <td>12.69</td>\n",
       "      <td>67.79</td>\n",
       "      <td>B</td>\n",
       "      <td>...</td>\n",
       "      <td>NaN</td>\n",
       "      <td>NaN</td>\n",
       "      <td>NaN</td>\n",
       "      <td>NaN</td>\n",
       "      <td>NaN</td>\n",
       "      <td>NaN</td>\n",
       "      <td>NaN</td>\n",
       "      <td>NaN</td>\n",
       "      <td>NaN</td>\n",
       "      <td>NaN</td>\n",
       "    </tr>\n",
       "  </tbody>\n",
       "</table>\n",
       "<p>5 rows × 75 columns</p>\n",
       "</div>"
      ],
      "text/plain": [
       "   Unnamed: 0       id  member_id  loan_amnt  funded_amnt  funded_amnt_inv  \\\n",
       "0           0  1077501    1296599       5000         5000           4975.0   \n",
       "1           1  1077430    1314167       2500         2500           2500.0   \n",
       "2           2  1077175    1313524       2400         2400           2400.0   \n",
       "3           3  1076863    1277178      10000        10000          10000.0   \n",
       "4           4  1075358    1311748       3000         3000           3000.0   \n",
       "\n",
       "         term  int_rate  installment grade  ... total_bal_il il_util  \\\n",
       "0   36 months     10.65       162.87     B  ...          NaN     NaN   \n",
       "1   60 months     15.27        59.83     C  ...          NaN     NaN   \n",
       "2   36 months     15.96        84.33     C  ...          NaN     NaN   \n",
       "3   36 months     13.49       339.31     C  ...          NaN     NaN   \n",
       "4   60 months     12.69        67.79     B  ...          NaN     NaN   \n",
       "\n",
       "  open_rv_12m open_rv_24m  max_bal_bc all_util total_rev_hi_lim inq_fi  \\\n",
       "0         NaN         NaN         NaN      NaN              NaN    NaN   \n",
       "1         NaN         NaN         NaN      NaN              NaN    NaN   \n",
       "2         NaN         NaN         NaN      NaN              NaN    NaN   \n",
       "3         NaN         NaN         NaN      NaN              NaN    NaN   \n",
       "4         NaN         NaN         NaN      NaN              NaN    NaN   \n",
       "\n",
       "  total_cu_tl inq_last_12m  \n",
       "0         NaN          NaN  \n",
       "1         NaN          NaN  \n",
       "2         NaN          NaN  \n",
       "3         NaN          NaN  \n",
       "4         NaN          NaN  \n",
       "\n",
       "[5 rows x 75 columns]"
      ]
     },
     "execution_count": 4,
     "metadata": {},
     "output_type": "execute_result"
    }
   ],
   "source": [
    "# Get an overview of the data\n",
    "df.head()"
   ]
  },
  {
   "cell_type": "code",
   "execution_count": 5,
   "id": "fa2dc1b9",
   "metadata": {},
   "outputs": [
    {
     "data": {
      "text/html": [
       "<div>\n",
       "<style scoped>\n",
       "    .dataframe tbody tr th:only-of-type {\n",
       "        vertical-align: middle;\n",
       "    }\n",
       "\n",
       "    .dataframe tbody tr th {\n",
       "        vertical-align: top;\n",
       "    }\n",
       "\n",
       "    .dataframe thead th {\n",
       "        text-align: right;\n",
       "    }\n",
       "</style>\n",
       "<table border=\"1\" class=\"dataframe\">\n",
       "  <thead>\n",
       "    <tr style=\"text-align: right;\">\n",
       "      <th></th>\n",
       "      <th>Unnamed: 0</th>\n",
       "      <th>id</th>\n",
       "      <th>member_id</th>\n",
       "      <th>loan_amnt</th>\n",
       "      <th>funded_amnt</th>\n",
       "      <th>funded_amnt_inv</th>\n",
       "      <th>term</th>\n",
       "      <th>int_rate</th>\n",
       "      <th>installment</th>\n",
       "      <th>grade</th>\n",
       "      <th>...</th>\n",
       "      <th>total_bal_il</th>\n",
       "      <th>il_util</th>\n",
       "      <th>open_rv_12m</th>\n",
       "      <th>open_rv_24m</th>\n",
       "      <th>max_bal_bc</th>\n",
       "      <th>all_util</th>\n",
       "      <th>total_rev_hi_lim</th>\n",
       "      <th>inq_fi</th>\n",
       "      <th>total_cu_tl</th>\n",
       "      <th>inq_last_12m</th>\n",
       "    </tr>\n",
       "  </thead>\n",
       "  <tbody>\n",
       "    <tr>\n",
       "      <th>466280</th>\n",
       "      <td>466280</td>\n",
       "      <td>8598660</td>\n",
       "      <td>1440975</td>\n",
       "      <td>18400</td>\n",
       "      <td>18400</td>\n",
       "      <td>18400.0</td>\n",
       "      <td>60 months</td>\n",
       "      <td>14.47</td>\n",
       "      <td>432.64</td>\n",
       "      <td>C</td>\n",
       "      <td>...</td>\n",
       "      <td>NaN</td>\n",
       "      <td>NaN</td>\n",
       "      <td>NaN</td>\n",
       "      <td>NaN</td>\n",
       "      <td>NaN</td>\n",
       "      <td>NaN</td>\n",
       "      <td>29900.0</td>\n",
       "      <td>NaN</td>\n",
       "      <td>NaN</td>\n",
       "      <td>NaN</td>\n",
       "    </tr>\n",
       "    <tr>\n",
       "      <th>466281</th>\n",
       "      <td>466281</td>\n",
       "      <td>9684700</td>\n",
       "      <td>11536848</td>\n",
       "      <td>22000</td>\n",
       "      <td>22000</td>\n",
       "      <td>22000.0</td>\n",
       "      <td>60 months</td>\n",
       "      <td>19.97</td>\n",
       "      <td>582.50</td>\n",
       "      <td>D</td>\n",
       "      <td>...</td>\n",
       "      <td>NaN</td>\n",
       "      <td>NaN</td>\n",
       "      <td>NaN</td>\n",
       "      <td>NaN</td>\n",
       "      <td>NaN</td>\n",
       "      <td>NaN</td>\n",
       "      <td>39400.0</td>\n",
       "      <td>NaN</td>\n",
       "      <td>NaN</td>\n",
       "      <td>NaN</td>\n",
       "    </tr>\n",
       "    <tr>\n",
       "      <th>466282</th>\n",
       "      <td>466282</td>\n",
       "      <td>9584776</td>\n",
       "      <td>11436914</td>\n",
       "      <td>20700</td>\n",
       "      <td>20700</td>\n",
       "      <td>20700.0</td>\n",
       "      <td>60 months</td>\n",
       "      <td>16.99</td>\n",
       "      <td>514.34</td>\n",
       "      <td>D</td>\n",
       "      <td>...</td>\n",
       "      <td>NaN</td>\n",
       "      <td>NaN</td>\n",
       "      <td>NaN</td>\n",
       "      <td>NaN</td>\n",
       "      <td>NaN</td>\n",
       "      <td>NaN</td>\n",
       "      <td>13100.0</td>\n",
       "      <td>NaN</td>\n",
       "      <td>NaN</td>\n",
       "      <td>NaN</td>\n",
       "    </tr>\n",
       "    <tr>\n",
       "      <th>466283</th>\n",
       "      <td>466283</td>\n",
       "      <td>9604874</td>\n",
       "      <td>11457002</td>\n",
       "      <td>2000</td>\n",
       "      <td>2000</td>\n",
       "      <td>2000.0</td>\n",
       "      <td>36 months</td>\n",
       "      <td>7.90</td>\n",
       "      <td>62.59</td>\n",
       "      <td>A</td>\n",
       "      <td>...</td>\n",
       "      <td>NaN</td>\n",
       "      <td>NaN</td>\n",
       "      <td>NaN</td>\n",
       "      <td>NaN</td>\n",
       "      <td>NaN</td>\n",
       "      <td>NaN</td>\n",
       "      <td>53100.0</td>\n",
       "      <td>NaN</td>\n",
       "      <td>NaN</td>\n",
       "      <td>NaN</td>\n",
       "    </tr>\n",
       "    <tr>\n",
       "      <th>466284</th>\n",
       "      <td>466284</td>\n",
       "      <td>9199665</td>\n",
       "      <td>11061576</td>\n",
       "      <td>10000</td>\n",
       "      <td>10000</td>\n",
       "      <td>9975.0</td>\n",
       "      <td>36 months</td>\n",
       "      <td>19.20</td>\n",
       "      <td>367.58</td>\n",
       "      <td>D</td>\n",
       "      <td>...</td>\n",
       "      <td>NaN</td>\n",
       "      <td>NaN</td>\n",
       "      <td>NaN</td>\n",
       "      <td>NaN</td>\n",
       "      <td>NaN</td>\n",
       "      <td>NaN</td>\n",
       "      <td>16000.0</td>\n",
       "      <td>NaN</td>\n",
       "      <td>NaN</td>\n",
       "      <td>NaN</td>\n",
       "    </tr>\n",
       "  </tbody>\n",
       "</table>\n",
       "<p>5 rows × 75 columns</p>\n",
       "</div>"
      ],
      "text/plain": [
       "        Unnamed: 0       id  member_id  loan_amnt  funded_amnt  \\\n",
       "466280      466280  8598660    1440975      18400        18400   \n",
       "466281      466281  9684700   11536848      22000        22000   \n",
       "466282      466282  9584776   11436914      20700        20700   \n",
       "466283      466283  9604874   11457002       2000         2000   \n",
       "466284      466284  9199665   11061576      10000        10000   \n",
       "\n",
       "        funded_amnt_inv        term  int_rate  installment grade  ...  \\\n",
       "466280          18400.0   60 months     14.47       432.64     C  ...   \n",
       "466281          22000.0   60 months     19.97       582.50     D  ...   \n",
       "466282          20700.0   60 months     16.99       514.34     D  ...   \n",
       "466283           2000.0   36 months      7.90        62.59     A  ...   \n",
       "466284           9975.0   36 months     19.20       367.58     D  ...   \n",
       "\n",
       "       total_bal_il il_util open_rv_12m open_rv_24m  max_bal_bc all_util  \\\n",
       "466280          NaN     NaN         NaN         NaN         NaN      NaN   \n",
       "466281          NaN     NaN         NaN         NaN         NaN      NaN   \n",
       "466282          NaN     NaN         NaN         NaN         NaN      NaN   \n",
       "466283          NaN     NaN         NaN         NaN         NaN      NaN   \n",
       "466284          NaN     NaN         NaN         NaN         NaN      NaN   \n",
       "\n",
       "       total_rev_hi_lim inq_fi total_cu_tl inq_last_12m  \n",
       "466280          29900.0    NaN         NaN          NaN  \n",
       "466281          39400.0    NaN         NaN          NaN  \n",
       "466282          13100.0    NaN         NaN          NaN  \n",
       "466283          53100.0    NaN         NaN          NaN  \n",
       "466284          16000.0    NaN         NaN          NaN  \n",
       "\n",
       "[5 rows x 75 columns]"
      ]
     },
     "execution_count": 5,
     "metadata": {},
     "output_type": "execute_result"
    }
   ],
   "source": [
    "# Viewing the last n lines\n",
    "df.tail()"
   ]
  },
  {
   "cell_type": "code",
   "execution_count": 6,
   "id": "3b0d3438",
   "metadata": {},
   "outputs": [
    {
     "data": {
      "text/plain": [
       "(466285, 75)"
      ]
     },
     "execution_count": 6,
     "metadata": {},
     "output_type": "execute_result"
    }
   ],
   "source": [
    "# Check the shape of the data\n",
    "df.shape"
   ]
  },
  {
   "cell_type": "code",
   "execution_count": 7,
   "id": "1159f5c9",
   "metadata": {},
   "outputs": [
    {
     "data": {
      "text/plain": [
       "466285"
      ]
     },
     "execution_count": 7,
     "metadata": {},
     "output_type": "execute_result"
    }
   ],
   "source": [
    "df.id.nunique()"
   ]
  },
  {
   "cell_type": "markdown",
   "id": "ee2a1273",
   "metadata": {},
   "source": [
    "No duplicate id"
   ]
  },
  {
   "cell_type": "code",
   "execution_count": 8,
   "id": "18f1a1f2",
   "metadata": {},
   "outputs": [
    {
     "data": {
      "text/plain": [
       "466285"
      ]
     },
     "execution_count": 8,
     "metadata": {},
     "output_type": "execute_result"
    }
   ],
   "source": [
    "df.member_id.nunique()"
   ]
  },
  {
   "cell_type": "markdown",
   "id": "3f227739",
   "metadata": {},
   "source": [
    "No duplicate Member_id"
   ]
  },
  {
   "cell_type": "code",
   "execution_count": 9,
   "id": "12a11d63",
   "metadata": {},
   "outputs": [
    {
     "name": "stdout",
     "output_type": "stream",
     "text": [
      "<class 'pandas.core.frame.DataFrame'>\n",
      "RangeIndex: 466285 entries, 0 to 466284\n",
      "Data columns (total 75 columns):\n",
      " #   Column                       Non-Null Count   Dtype  \n",
      "---  ------                       --------------   -----  \n",
      " 0   Unnamed: 0                   466285 non-null  int64  \n",
      " 1   id                           466285 non-null  int64  \n",
      " 2   member_id                    466285 non-null  int64  \n",
      " 3   loan_amnt                    466285 non-null  int64  \n",
      " 4   funded_amnt                  466285 non-null  int64  \n",
      " 5   funded_amnt_inv              466285 non-null  float64\n",
      " 6   term                         466285 non-null  object \n",
      " 7   int_rate                     466285 non-null  float64\n",
      " 8   installment                  466285 non-null  float64\n",
      " 9   grade                        466285 non-null  object \n",
      " 10  sub_grade                    466285 non-null  object \n",
      " 11  emp_title                    438697 non-null  object \n",
      " 12  emp_length                   445277 non-null  object \n",
      " 13  home_ownership               466285 non-null  object \n",
      " 14  annual_inc                   466281 non-null  float64\n",
      " 15  verification_status          466285 non-null  object \n",
      " 16  issue_d                      466285 non-null  object \n",
      " 17  loan_status                  466285 non-null  object \n",
      " 18  pymnt_plan                   466285 non-null  object \n",
      " 19  url                          466285 non-null  object \n",
      " 20  desc                         125983 non-null  object \n",
      " 21  purpose                      466285 non-null  object \n",
      " 22  title                        466265 non-null  object \n",
      " 23  zip_code                     466285 non-null  object \n",
      " 24  addr_state                   466285 non-null  object \n",
      " 25  dti                          466285 non-null  float64\n",
      " 26  delinq_2yrs                  466256 non-null  float64\n",
      " 27  earliest_cr_line             466256 non-null  object \n",
      " 28  inq_last_6mths               466256 non-null  float64\n",
      " 29  mths_since_last_delinq       215934 non-null  float64\n",
      " 30  mths_since_last_record       62638 non-null   float64\n",
      " 31  open_acc                     466256 non-null  float64\n",
      " 32  pub_rec                      466256 non-null  float64\n",
      " 33  revol_bal                    466285 non-null  int64  \n",
      " 34  revol_util                   465945 non-null  float64\n",
      " 35  total_acc                    466256 non-null  float64\n",
      " 36  initial_list_status          466285 non-null  object \n",
      " 37  out_prncp                    466285 non-null  float64\n",
      " 38  out_prncp_inv                466285 non-null  float64\n",
      " 39  total_pymnt                  466285 non-null  float64\n",
      " 40  total_pymnt_inv              466285 non-null  float64\n",
      " 41  total_rec_prncp              466285 non-null  float64\n",
      " 42  total_rec_int                466285 non-null  float64\n",
      " 43  total_rec_late_fee           466285 non-null  float64\n",
      " 44  recoveries                   466285 non-null  float64\n",
      " 45  collection_recovery_fee      466285 non-null  float64\n",
      " 46  last_pymnt_d                 465909 non-null  object \n",
      " 47  last_pymnt_amnt              466285 non-null  float64\n",
      " 48  next_pymnt_d                 239071 non-null  object \n",
      " 49  last_credit_pull_d           466243 non-null  object \n",
      " 50  collections_12_mths_ex_med   466140 non-null  float64\n",
      " 51  mths_since_last_major_derog  98974 non-null   float64\n",
      " 52  policy_code                  466285 non-null  int64  \n",
      " 53  application_type             466285 non-null  object \n",
      " 54  annual_inc_joint             0 non-null       float64\n",
      " 55  dti_joint                    0 non-null       float64\n",
      " 56  verification_status_joint    0 non-null       float64\n",
      " 57  acc_now_delinq               466256 non-null  float64\n",
      " 58  tot_coll_amt                 396009 non-null  float64\n",
      " 59  tot_cur_bal                  396009 non-null  float64\n",
      " 60  open_acc_6m                  0 non-null       float64\n",
      " 61  open_il_6m                   0 non-null       float64\n",
      " 62  open_il_12m                  0 non-null       float64\n",
      " 63  open_il_24m                  0 non-null       float64\n",
      " 64  mths_since_rcnt_il           0 non-null       float64\n",
      " 65  total_bal_il                 0 non-null       float64\n",
      " 66  il_util                      0 non-null       float64\n",
      " 67  open_rv_12m                  0 non-null       float64\n",
      " 68  open_rv_24m                  0 non-null       float64\n",
      " 69  max_bal_bc                   0 non-null       float64\n",
      " 70  all_util                     0 non-null       float64\n",
      " 71  total_rev_hi_lim             396009 non-null  float64\n",
      " 72  inq_fi                       0 non-null       float64\n",
      " 73  total_cu_tl                  0 non-null       float64\n",
      " 74  inq_last_12m                 0 non-null       float64\n",
      "dtypes: float64(46), int64(7), object(22)\n",
      "memory usage: 266.8+ MB\n"
     ]
    }
   ],
   "source": [
    "# Check the data types\n",
    "df.info()"
   ]
  },
  {
   "cell_type": "code",
   "execution_count": 10,
   "id": "4b16c49b",
   "metadata": {},
   "outputs": [
    {
     "data": {
      "text/html": [
       "<div>\n",
       "<style scoped>\n",
       "    .dataframe tbody tr th:only-of-type {\n",
       "        vertical-align: middle;\n",
       "    }\n",
       "\n",
       "    .dataframe tbody tr th {\n",
       "        vertical-align: top;\n",
       "    }\n",
       "\n",
       "    .dataframe thead th {\n",
       "        text-align: right;\n",
       "    }\n",
       "</style>\n",
       "<table border=\"1\" class=\"dataframe\">\n",
       "  <thead>\n",
       "    <tr style=\"text-align: right;\">\n",
       "      <th></th>\n",
       "      <th>count</th>\n",
       "      <th>mean</th>\n",
       "      <th>std</th>\n",
       "      <th>min</th>\n",
       "      <th>25%</th>\n",
       "      <th>50%</th>\n",
       "      <th>75%</th>\n",
       "      <th>max</th>\n",
       "    </tr>\n",
       "  </thead>\n",
       "  <tbody>\n",
       "    <tr>\n",
       "      <th>Unnamed: 0</th>\n",
       "      <td>466285.0</td>\n",
       "      <td>2.331420e+05</td>\n",
       "      <td>1.346050e+05</td>\n",
       "      <td>0.00</td>\n",
       "      <td>1.165710e+05</td>\n",
       "      <td>2.331420e+05</td>\n",
       "      <td>3.497130e+05</td>\n",
       "      <td>4.662840e+05</td>\n",
       "    </tr>\n",
       "    <tr>\n",
       "      <th>id</th>\n",
       "      <td>466285.0</td>\n",
       "      <td>1.307973e+07</td>\n",
       "      <td>1.089371e+07</td>\n",
       "      <td>54734.00</td>\n",
       "      <td>3.639987e+06</td>\n",
       "      <td>1.010790e+07</td>\n",
       "      <td>2.073121e+07</td>\n",
       "      <td>3.809811e+07</td>\n",
       "    </tr>\n",
       "    <tr>\n",
       "      <th>member_id</th>\n",
       "      <td>466285.0</td>\n",
       "      <td>1.459766e+07</td>\n",
       "      <td>1.168237e+07</td>\n",
       "      <td>70473.00</td>\n",
       "      <td>4.379705e+06</td>\n",
       "      <td>1.194108e+07</td>\n",
       "      <td>2.300154e+07</td>\n",
       "      <td>4.086083e+07</td>\n",
       "    </tr>\n",
       "    <tr>\n",
       "      <th>loan_amnt</th>\n",
       "      <td>466285.0</td>\n",
       "      <td>1.431728e+04</td>\n",
       "      <td>8.286509e+03</td>\n",
       "      <td>500.00</td>\n",
       "      <td>8.000000e+03</td>\n",
       "      <td>1.200000e+04</td>\n",
       "      <td>2.000000e+04</td>\n",
       "      <td>3.500000e+04</td>\n",
       "    </tr>\n",
       "    <tr>\n",
       "      <th>funded_amnt</th>\n",
       "      <td>466285.0</td>\n",
       "      <td>1.429180e+04</td>\n",
       "      <td>8.274371e+03</td>\n",
       "      <td>500.00</td>\n",
       "      <td>8.000000e+03</td>\n",
       "      <td>1.200000e+04</td>\n",
       "      <td>2.000000e+04</td>\n",
       "      <td>3.500000e+04</td>\n",
       "    </tr>\n",
       "    <tr>\n",
       "      <th>funded_amnt_inv</th>\n",
       "      <td>466285.0</td>\n",
       "      <td>1.422233e+04</td>\n",
       "      <td>8.297638e+03</td>\n",
       "      <td>0.00</td>\n",
       "      <td>8.000000e+03</td>\n",
       "      <td>1.200000e+04</td>\n",
       "      <td>1.995000e+04</td>\n",
       "      <td>3.500000e+04</td>\n",
       "    </tr>\n",
       "    <tr>\n",
       "      <th>int_rate</th>\n",
       "      <td>466285.0</td>\n",
       "      <td>1.382924e+01</td>\n",
       "      <td>4.357587e+00</td>\n",
       "      <td>5.42</td>\n",
       "      <td>1.099000e+01</td>\n",
       "      <td>1.366000e+01</td>\n",
       "      <td>1.649000e+01</td>\n",
       "      <td>2.606000e+01</td>\n",
       "    </tr>\n",
       "    <tr>\n",
       "      <th>installment</th>\n",
       "      <td>466285.0</td>\n",
       "      <td>4.320612e+02</td>\n",
       "      <td>2.434855e+02</td>\n",
       "      <td>15.67</td>\n",
       "      <td>2.566900e+02</td>\n",
       "      <td>3.798900e+02</td>\n",
       "      <td>5.665800e+02</td>\n",
       "      <td>1.409990e+03</td>\n",
       "    </tr>\n",
       "    <tr>\n",
       "      <th>annual_inc</th>\n",
       "      <td>466281.0</td>\n",
       "      <td>7.327738e+04</td>\n",
       "      <td>5.496357e+04</td>\n",
       "      <td>1896.00</td>\n",
       "      <td>4.500000e+04</td>\n",
       "      <td>6.300000e+04</td>\n",
       "      <td>8.896000e+04</td>\n",
       "      <td>7.500000e+06</td>\n",
       "    </tr>\n",
       "    <tr>\n",
       "      <th>dti</th>\n",
       "      <td>466285.0</td>\n",
       "      <td>1.721876e+01</td>\n",
       "      <td>7.851121e+00</td>\n",
       "      <td>0.00</td>\n",
       "      <td>1.136000e+01</td>\n",
       "      <td>1.687000e+01</td>\n",
       "      <td>2.278000e+01</td>\n",
       "      <td>3.999000e+01</td>\n",
       "    </tr>\n",
       "    <tr>\n",
       "      <th>delinq_2yrs</th>\n",
       "      <td>466256.0</td>\n",
       "      <td>2.846784e-01</td>\n",
       "      <td>7.973651e-01</td>\n",
       "      <td>0.00</td>\n",
       "      <td>0.000000e+00</td>\n",
       "      <td>0.000000e+00</td>\n",
       "      <td>0.000000e+00</td>\n",
       "      <td>2.900000e+01</td>\n",
       "    </tr>\n",
       "    <tr>\n",
       "      <th>inq_last_6mths</th>\n",
       "      <td>466256.0</td>\n",
       "      <td>8.047446e-01</td>\n",
       "      <td>1.091598e+00</td>\n",
       "      <td>0.00</td>\n",
       "      <td>0.000000e+00</td>\n",
       "      <td>0.000000e+00</td>\n",
       "      <td>1.000000e+00</td>\n",
       "      <td>3.300000e+01</td>\n",
       "    </tr>\n",
       "    <tr>\n",
       "      <th>mths_since_last_delinq</th>\n",
       "      <td>215934.0</td>\n",
       "      <td>3.410443e+01</td>\n",
       "      <td>2.177849e+01</td>\n",
       "      <td>0.00</td>\n",
       "      <td>1.600000e+01</td>\n",
       "      <td>3.100000e+01</td>\n",
       "      <td>4.900000e+01</td>\n",
       "      <td>1.880000e+02</td>\n",
       "    </tr>\n",
       "    <tr>\n",
       "      <th>mths_since_last_record</th>\n",
       "      <td>62638.0</td>\n",
       "      <td>7.430601e+01</td>\n",
       "      <td>3.035765e+01</td>\n",
       "      <td>0.00</td>\n",
       "      <td>5.300000e+01</td>\n",
       "      <td>7.600000e+01</td>\n",
       "      <td>1.020000e+02</td>\n",
       "      <td>1.290000e+02</td>\n",
       "    </tr>\n",
       "    <tr>\n",
       "      <th>open_acc</th>\n",
       "      <td>466256.0</td>\n",
       "      <td>1.118707e+01</td>\n",
       "      <td>4.987526e+00</td>\n",
       "      <td>0.00</td>\n",
       "      <td>8.000000e+00</td>\n",
       "      <td>1.000000e+01</td>\n",
       "      <td>1.400000e+01</td>\n",
       "      <td>8.400000e+01</td>\n",
       "    </tr>\n",
       "    <tr>\n",
       "      <th>pub_rec</th>\n",
       "      <td>466256.0</td>\n",
       "      <td>1.605642e-01</td>\n",
       "      <td>5.108626e-01</td>\n",
       "      <td>0.00</td>\n",
       "      <td>0.000000e+00</td>\n",
       "      <td>0.000000e+00</td>\n",
       "      <td>0.000000e+00</td>\n",
       "      <td>6.300000e+01</td>\n",
       "    </tr>\n",
       "    <tr>\n",
       "      <th>revol_bal</th>\n",
       "      <td>466285.0</td>\n",
       "      <td>1.623020e+04</td>\n",
       "      <td>2.067625e+04</td>\n",
       "      <td>0.00</td>\n",
       "      <td>6.413000e+03</td>\n",
       "      <td>1.176400e+04</td>\n",
       "      <td>2.033300e+04</td>\n",
       "      <td>2.568995e+06</td>\n",
       "    </tr>\n",
       "    <tr>\n",
       "      <th>revol_util</th>\n",
       "      <td>465945.0</td>\n",
       "      <td>5.617695e+01</td>\n",
       "      <td>2.373263e+01</td>\n",
       "      <td>0.00</td>\n",
       "      <td>3.920000e+01</td>\n",
       "      <td>5.760000e+01</td>\n",
       "      <td>7.470000e+01</td>\n",
       "      <td>8.923000e+02</td>\n",
       "    </tr>\n",
       "    <tr>\n",
       "      <th>total_acc</th>\n",
       "      <td>466256.0</td>\n",
       "      <td>2.506443e+01</td>\n",
       "      <td>1.160014e+01</td>\n",
       "      <td>1.00</td>\n",
       "      <td>1.700000e+01</td>\n",
       "      <td>2.300000e+01</td>\n",
       "      <td>3.200000e+01</td>\n",
       "      <td>1.560000e+02</td>\n",
       "    </tr>\n",
       "    <tr>\n",
       "      <th>out_prncp</th>\n",
       "      <td>466285.0</td>\n",
       "      <td>4.410062e+03</td>\n",
       "      <td>6.355079e+03</td>\n",
       "      <td>0.00</td>\n",
       "      <td>0.000000e+00</td>\n",
       "      <td>4.414700e+02</td>\n",
       "      <td>7.341650e+03</td>\n",
       "      <td>3.216038e+04</td>\n",
       "    </tr>\n",
       "    <tr>\n",
       "      <th>out_prncp_inv</th>\n",
       "      <td>466285.0</td>\n",
       "      <td>4.408452e+03</td>\n",
       "      <td>6.353198e+03</td>\n",
       "      <td>0.00</td>\n",
       "      <td>0.000000e+00</td>\n",
       "      <td>4.413800e+02</td>\n",
       "      <td>7.338390e+03</td>\n",
       "      <td>3.216038e+04</td>\n",
       "    </tr>\n",
       "    <tr>\n",
       "      <th>total_pymnt</th>\n",
       "      <td>466285.0</td>\n",
       "      <td>1.154069e+04</td>\n",
       "      <td>8.265627e+03</td>\n",
       "      <td>0.00</td>\n",
       "      <td>5.552125e+03</td>\n",
       "      <td>9.419251e+03</td>\n",
       "      <td>1.530816e+04</td>\n",
       "      <td>5.777758e+04</td>\n",
       "    </tr>\n",
       "    <tr>\n",
       "      <th>total_pymnt_inv</th>\n",
       "      <td>466285.0</td>\n",
       "      <td>1.146989e+04</td>\n",
       "      <td>8.254158e+03</td>\n",
       "      <td>0.00</td>\n",
       "      <td>5.499250e+03</td>\n",
       "      <td>9.355430e+03</td>\n",
       "      <td>1.523131e+04</td>\n",
       "      <td>5.777758e+04</td>\n",
       "    </tr>\n",
       "    <tr>\n",
       "      <th>total_rec_prncp</th>\n",
       "      <td>466285.0</td>\n",
       "      <td>8.866015e+03</td>\n",
       "      <td>7.031688e+03</td>\n",
       "      <td>0.00</td>\n",
       "      <td>3.708560e+03</td>\n",
       "      <td>6.817760e+03</td>\n",
       "      <td>1.200000e+04</td>\n",
       "      <td>3.500003e+04</td>\n",
       "    </tr>\n",
       "    <tr>\n",
       "      <th>total_rec_int</th>\n",
       "      <td>466285.0</td>\n",
       "      <td>2.588677e+03</td>\n",
       "      <td>2.483810e+03</td>\n",
       "      <td>0.00</td>\n",
       "      <td>9.572800e+02</td>\n",
       "      <td>1.818880e+03</td>\n",
       "      <td>3.304530e+03</td>\n",
       "      <td>2.420562e+04</td>\n",
       "    </tr>\n",
       "    <tr>\n",
       "      <th>total_rec_late_fee</th>\n",
       "      <td>466285.0</td>\n",
       "      <td>6.501292e-01</td>\n",
       "      <td>5.265730e+00</td>\n",
       "      <td>0.00</td>\n",
       "      <td>0.000000e+00</td>\n",
       "      <td>0.000000e+00</td>\n",
       "      <td>0.000000e+00</td>\n",
       "      <td>3.586800e+02</td>\n",
       "    </tr>\n",
       "    <tr>\n",
       "      <th>recoveries</th>\n",
       "      <td>466285.0</td>\n",
       "      <td>8.534421e+01</td>\n",
       "      <td>5.522161e+02</td>\n",
       "      <td>0.00</td>\n",
       "      <td>0.000000e+00</td>\n",
       "      <td>0.000000e+00</td>\n",
       "      <td>0.000000e+00</td>\n",
       "      <td>3.352027e+04</td>\n",
       "    </tr>\n",
       "    <tr>\n",
       "      <th>collection_recovery_fee</th>\n",
       "      <td>466285.0</td>\n",
       "      <td>8.961534e+00</td>\n",
       "      <td>8.549144e+01</td>\n",
       "      <td>0.00</td>\n",
       "      <td>0.000000e+00</td>\n",
       "      <td>0.000000e+00</td>\n",
       "      <td>0.000000e+00</td>\n",
       "      <td>7.002190e+03</td>\n",
       "    </tr>\n",
       "    <tr>\n",
       "      <th>last_pymnt_amnt</th>\n",
       "      <td>466285.0</td>\n",
       "      <td>3.123914e+03</td>\n",
       "      <td>5.554737e+03</td>\n",
       "      <td>0.00</td>\n",
       "      <td>3.126200e+02</td>\n",
       "      <td>5.459600e+02</td>\n",
       "      <td>3.187510e+03</td>\n",
       "      <td>3.623444e+04</td>\n",
       "    </tr>\n",
       "    <tr>\n",
       "      <th>collections_12_mths_ex_med</th>\n",
       "      <td>466140.0</td>\n",
       "      <td>9.085253e-03</td>\n",
       "      <td>1.086484e-01</td>\n",
       "      <td>0.00</td>\n",
       "      <td>0.000000e+00</td>\n",
       "      <td>0.000000e+00</td>\n",
       "      <td>0.000000e+00</td>\n",
       "      <td>2.000000e+01</td>\n",
       "    </tr>\n",
       "    <tr>\n",
       "      <th>mths_since_last_major_derog</th>\n",
       "      <td>98974.0</td>\n",
       "      <td>4.285255e+01</td>\n",
       "      <td>2.166259e+01</td>\n",
       "      <td>0.00</td>\n",
       "      <td>2.600000e+01</td>\n",
       "      <td>4.200000e+01</td>\n",
       "      <td>5.900000e+01</td>\n",
       "      <td>1.880000e+02</td>\n",
       "    </tr>\n",
       "    <tr>\n",
       "      <th>policy_code</th>\n",
       "      <td>466285.0</td>\n",
       "      <td>1.000000e+00</td>\n",
       "      <td>0.000000e+00</td>\n",
       "      <td>1.00</td>\n",
       "      <td>1.000000e+00</td>\n",
       "      <td>1.000000e+00</td>\n",
       "      <td>1.000000e+00</td>\n",
       "      <td>1.000000e+00</td>\n",
       "    </tr>\n",
       "    <tr>\n",
       "      <th>annual_inc_joint</th>\n",
       "      <td>0.0</td>\n",
       "      <td>NaN</td>\n",
       "      <td>NaN</td>\n",
       "      <td>NaN</td>\n",
       "      <td>NaN</td>\n",
       "      <td>NaN</td>\n",
       "      <td>NaN</td>\n",
       "      <td>NaN</td>\n",
       "    </tr>\n",
       "    <tr>\n",
       "      <th>dti_joint</th>\n",
       "      <td>0.0</td>\n",
       "      <td>NaN</td>\n",
       "      <td>NaN</td>\n",
       "      <td>NaN</td>\n",
       "      <td>NaN</td>\n",
       "      <td>NaN</td>\n",
       "      <td>NaN</td>\n",
       "      <td>NaN</td>\n",
       "    </tr>\n",
       "    <tr>\n",
       "      <th>verification_status_joint</th>\n",
       "      <td>0.0</td>\n",
       "      <td>NaN</td>\n",
       "      <td>NaN</td>\n",
       "      <td>NaN</td>\n",
       "      <td>NaN</td>\n",
       "      <td>NaN</td>\n",
       "      <td>NaN</td>\n",
       "      <td>NaN</td>\n",
       "    </tr>\n",
       "    <tr>\n",
       "      <th>acc_now_delinq</th>\n",
       "      <td>466256.0</td>\n",
       "      <td>4.002093e-03</td>\n",
       "      <td>6.863680e-02</td>\n",
       "      <td>0.00</td>\n",
       "      <td>0.000000e+00</td>\n",
       "      <td>0.000000e+00</td>\n",
       "      <td>0.000000e+00</td>\n",
       "      <td>5.000000e+00</td>\n",
       "    </tr>\n",
       "    <tr>\n",
       "      <th>tot_coll_amt</th>\n",
       "      <td>396009.0</td>\n",
       "      <td>1.919135e+02</td>\n",
       "      <td>1.463021e+04</td>\n",
       "      <td>0.00</td>\n",
       "      <td>0.000000e+00</td>\n",
       "      <td>0.000000e+00</td>\n",
       "      <td>0.000000e+00</td>\n",
       "      <td>9.152545e+06</td>\n",
       "    </tr>\n",
       "    <tr>\n",
       "      <th>tot_cur_bal</th>\n",
       "      <td>396009.0</td>\n",
       "      <td>1.388017e+05</td>\n",
       "      <td>1.521147e+05</td>\n",
       "      <td>0.00</td>\n",
       "      <td>2.861800e+04</td>\n",
       "      <td>8.153900e+04</td>\n",
       "      <td>2.089530e+05</td>\n",
       "      <td>8.000078e+06</td>\n",
       "    </tr>\n",
       "    <tr>\n",
       "      <th>open_acc_6m</th>\n",
       "      <td>0.0</td>\n",
       "      <td>NaN</td>\n",
       "      <td>NaN</td>\n",
       "      <td>NaN</td>\n",
       "      <td>NaN</td>\n",
       "      <td>NaN</td>\n",
       "      <td>NaN</td>\n",
       "      <td>NaN</td>\n",
       "    </tr>\n",
       "    <tr>\n",
       "      <th>open_il_6m</th>\n",
       "      <td>0.0</td>\n",
       "      <td>NaN</td>\n",
       "      <td>NaN</td>\n",
       "      <td>NaN</td>\n",
       "      <td>NaN</td>\n",
       "      <td>NaN</td>\n",
       "      <td>NaN</td>\n",
       "      <td>NaN</td>\n",
       "    </tr>\n",
       "    <tr>\n",
       "      <th>open_il_12m</th>\n",
       "      <td>0.0</td>\n",
       "      <td>NaN</td>\n",
       "      <td>NaN</td>\n",
       "      <td>NaN</td>\n",
       "      <td>NaN</td>\n",
       "      <td>NaN</td>\n",
       "      <td>NaN</td>\n",
       "      <td>NaN</td>\n",
       "    </tr>\n",
       "    <tr>\n",
       "      <th>open_il_24m</th>\n",
       "      <td>0.0</td>\n",
       "      <td>NaN</td>\n",
       "      <td>NaN</td>\n",
       "      <td>NaN</td>\n",
       "      <td>NaN</td>\n",
       "      <td>NaN</td>\n",
       "      <td>NaN</td>\n",
       "      <td>NaN</td>\n",
       "    </tr>\n",
       "    <tr>\n",
       "      <th>mths_since_rcnt_il</th>\n",
       "      <td>0.0</td>\n",
       "      <td>NaN</td>\n",
       "      <td>NaN</td>\n",
       "      <td>NaN</td>\n",
       "      <td>NaN</td>\n",
       "      <td>NaN</td>\n",
       "      <td>NaN</td>\n",
       "      <td>NaN</td>\n",
       "    </tr>\n",
       "    <tr>\n",
       "      <th>total_bal_il</th>\n",
       "      <td>0.0</td>\n",
       "      <td>NaN</td>\n",
       "      <td>NaN</td>\n",
       "      <td>NaN</td>\n",
       "      <td>NaN</td>\n",
       "      <td>NaN</td>\n",
       "      <td>NaN</td>\n",
       "      <td>NaN</td>\n",
       "    </tr>\n",
       "    <tr>\n",
       "      <th>il_util</th>\n",
       "      <td>0.0</td>\n",
       "      <td>NaN</td>\n",
       "      <td>NaN</td>\n",
       "      <td>NaN</td>\n",
       "      <td>NaN</td>\n",
       "      <td>NaN</td>\n",
       "      <td>NaN</td>\n",
       "      <td>NaN</td>\n",
       "    </tr>\n",
       "    <tr>\n",
       "      <th>open_rv_12m</th>\n",
       "      <td>0.0</td>\n",
       "      <td>NaN</td>\n",
       "      <td>NaN</td>\n",
       "      <td>NaN</td>\n",
       "      <td>NaN</td>\n",
       "      <td>NaN</td>\n",
       "      <td>NaN</td>\n",
       "      <td>NaN</td>\n",
       "    </tr>\n",
       "    <tr>\n",
       "      <th>open_rv_24m</th>\n",
       "      <td>0.0</td>\n",
       "      <td>NaN</td>\n",
       "      <td>NaN</td>\n",
       "      <td>NaN</td>\n",
       "      <td>NaN</td>\n",
       "      <td>NaN</td>\n",
       "      <td>NaN</td>\n",
       "      <td>NaN</td>\n",
       "    </tr>\n",
       "    <tr>\n",
       "      <th>max_bal_bc</th>\n",
       "      <td>0.0</td>\n",
       "      <td>NaN</td>\n",
       "      <td>NaN</td>\n",
       "      <td>NaN</td>\n",
       "      <td>NaN</td>\n",
       "      <td>NaN</td>\n",
       "      <td>NaN</td>\n",
       "      <td>NaN</td>\n",
       "    </tr>\n",
       "    <tr>\n",
       "      <th>all_util</th>\n",
       "      <td>0.0</td>\n",
       "      <td>NaN</td>\n",
       "      <td>NaN</td>\n",
       "      <td>NaN</td>\n",
       "      <td>NaN</td>\n",
       "      <td>NaN</td>\n",
       "      <td>NaN</td>\n",
       "      <td>NaN</td>\n",
       "    </tr>\n",
       "    <tr>\n",
       "      <th>total_rev_hi_lim</th>\n",
       "      <td>396009.0</td>\n",
       "      <td>3.037909e+04</td>\n",
       "      <td>3.724713e+04</td>\n",
       "      <td>0.00</td>\n",
       "      <td>1.350000e+04</td>\n",
       "      <td>2.280000e+04</td>\n",
       "      <td>3.790000e+04</td>\n",
       "      <td>9.999999e+06</td>\n",
       "    </tr>\n",
       "    <tr>\n",
       "      <th>inq_fi</th>\n",
       "      <td>0.0</td>\n",
       "      <td>NaN</td>\n",
       "      <td>NaN</td>\n",
       "      <td>NaN</td>\n",
       "      <td>NaN</td>\n",
       "      <td>NaN</td>\n",
       "      <td>NaN</td>\n",
       "      <td>NaN</td>\n",
       "    </tr>\n",
       "    <tr>\n",
       "      <th>total_cu_tl</th>\n",
       "      <td>0.0</td>\n",
       "      <td>NaN</td>\n",
       "      <td>NaN</td>\n",
       "      <td>NaN</td>\n",
       "      <td>NaN</td>\n",
       "      <td>NaN</td>\n",
       "      <td>NaN</td>\n",
       "      <td>NaN</td>\n",
       "    </tr>\n",
       "    <tr>\n",
       "      <th>inq_last_12m</th>\n",
       "      <td>0.0</td>\n",
       "      <td>NaN</td>\n",
       "      <td>NaN</td>\n",
       "      <td>NaN</td>\n",
       "      <td>NaN</td>\n",
       "      <td>NaN</td>\n",
       "      <td>NaN</td>\n",
       "      <td>NaN</td>\n",
       "    </tr>\n",
       "  </tbody>\n",
       "</table>\n",
       "</div>"
      ],
      "text/plain": [
       "                                count          mean           std       min  \\\n",
       "Unnamed: 0                   466285.0  2.331420e+05  1.346050e+05      0.00   \n",
       "id                           466285.0  1.307973e+07  1.089371e+07  54734.00   \n",
       "member_id                    466285.0  1.459766e+07  1.168237e+07  70473.00   \n",
       "loan_amnt                    466285.0  1.431728e+04  8.286509e+03    500.00   \n",
       "funded_amnt                  466285.0  1.429180e+04  8.274371e+03    500.00   \n",
       "funded_amnt_inv              466285.0  1.422233e+04  8.297638e+03      0.00   \n",
       "int_rate                     466285.0  1.382924e+01  4.357587e+00      5.42   \n",
       "installment                  466285.0  4.320612e+02  2.434855e+02     15.67   \n",
       "annual_inc                   466281.0  7.327738e+04  5.496357e+04   1896.00   \n",
       "dti                          466285.0  1.721876e+01  7.851121e+00      0.00   \n",
       "delinq_2yrs                  466256.0  2.846784e-01  7.973651e-01      0.00   \n",
       "inq_last_6mths               466256.0  8.047446e-01  1.091598e+00      0.00   \n",
       "mths_since_last_delinq       215934.0  3.410443e+01  2.177849e+01      0.00   \n",
       "mths_since_last_record        62638.0  7.430601e+01  3.035765e+01      0.00   \n",
       "open_acc                     466256.0  1.118707e+01  4.987526e+00      0.00   \n",
       "pub_rec                      466256.0  1.605642e-01  5.108626e-01      0.00   \n",
       "revol_bal                    466285.0  1.623020e+04  2.067625e+04      0.00   \n",
       "revol_util                   465945.0  5.617695e+01  2.373263e+01      0.00   \n",
       "total_acc                    466256.0  2.506443e+01  1.160014e+01      1.00   \n",
       "out_prncp                    466285.0  4.410062e+03  6.355079e+03      0.00   \n",
       "out_prncp_inv                466285.0  4.408452e+03  6.353198e+03      0.00   \n",
       "total_pymnt                  466285.0  1.154069e+04  8.265627e+03      0.00   \n",
       "total_pymnt_inv              466285.0  1.146989e+04  8.254158e+03      0.00   \n",
       "total_rec_prncp              466285.0  8.866015e+03  7.031688e+03      0.00   \n",
       "total_rec_int                466285.0  2.588677e+03  2.483810e+03      0.00   \n",
       "total_rec_late_fee           466285.0  6.501292e-01  5.265730e+00      0.00   \n",
       "recoveries                   466285.0  8.534421e+01  5.522161e+02      0.00   \n",
       "collection_recovery_fee      466285.0  8.961534e+00  8.549144e+01      0.00   \n",
       "last_pymnt_amnt              466285.0  3.123914e+03  5.554737e+03      0.00   \n",
       "collections_12_mths_ex_med   466140.0  9.085253e-03  1.086484e-01      0.00   \n",
       "mths_since_last_major_derog   98974.0  4.285255e+01  2.166259e+01      0.00   \n",
       "policy_code                  466285.0  1.000000e+00  0.000000e+00      1.00   \n",
       "annual_inc_joint                  0.0           NaN           NaN       NaN   \n",
       "dti_joint                         0.0           NaN           NaN       NaN   \n",
       "verification_status_joint         0.0           NaN           NaN       NaN   \n",
       "acc_now_delinq               466256.0  4.002093e-03  6.863680e-02      0.00   \n",
       "tot_coll_amt                 396009.0  1.919135e+02  1.463021e+04      0.00   \n",
       "tot_cur_bal                  396009.0  1.388017e+05  1.521147e+05      0.00   \n",
       "open_acc_6m                       0.0           NaN           NaN       NaN   \n",
       "open_il_6m                        0.0           NaN           NaN       NaN   \n",
       "open_il_12m                       0.0           NaN           NaN       NaN   \n",
       "open_il_24m                       0.0           NaN           NaN       NaN   \n",
       "mths_since_rcnt_il                0.0           NaN           NaN       NaN   \n",
       "total_bal_il                      0.0           NaN           NaN       NaN   \n",
       "il_util                           0.0           NaN           NaN       NaN   \n",
       "open_rv_12m                       0.0           NaN           NaN       NaN   \n",
       "open_rv_24m                       0.0           NaN           NaN       NaN   \n",
       "max_bal_bc                        0.0           NaN           NaN       NaN   \n",
       "all_util                          0.0           NaN           NaN       NaN   \n",
       "total_rev_hi_lim             396009.0  3.037909e+04  3.724713e+04      0.00   \n",
       "inq_fi                            0.0           NaN           NaN       NaN   \n",
       "total_cu_tl                       0.0           NaN           NaN       NaN   \n",
       "inq_last_12m                      0.0           NaN           NaN       NaN   \n",
       "\n",
       "                                      25%           50%           75%  \\\n",
       "Unnamed: 0                   1.165710e+05  2.331420e+05  3.497130e+05   \n",
       "id                           3.639987e+06  1.010790e+07  2.073121e+07   \n",
       "member_id                    4.379705e+06  1.194108e+07  2.300154e+07   \n",
       "loan_amnt                    8.000000e+03  1.200000e+04  2.000000e+04   \n",
       "funded_amnt                  8.000000e+03  1.200000e+04  2.000000e+04   \n",
       "funded_amnt_inv              8.000000e+03  1.200000e+04  1.995000e+04   \n",
       "int_rate                     1.099000e+01  1.366000e+01  1.649000e+01   \n",
       "installment                  2.566900e+02  3.798900e+02  5.665800e+02   \n",
       "annual_inc                   4.500000e+04  6.300000e+04  8.896000e+04   \n",
       "dti                          1.136000e+01  1.687000e+01  2.278000e+01   \n",
       "delinq_2yrs                  0.000000e+00  0.000000e+00  0.000000e+00   \n",
       "inq_last_6mths               0.000000e+00  0.000000e+00  1.000000e+00   \n",
       "mths_since_last_delinq       1.600000e+01  3.100000e+01  4.900000e+01   \n",
       "mths_since_last_record       5.300000e+01  7.600000e+01  1.020000e+02   \n",
       "open_acc                     8.000000e+00  1.000000e+01  1.400000e+01   \n",
       "pub_rec                      0.000000e+00  0.000000e+00  0.000000e+00   \n",
       "revol_bal                    6.413000e+03  1.176400e+04  2.033300e+04   \n",
       "revol_util                   3.920000e+01  5.760000e+01  7.470000e+01   \n",
       "total_acc                    1.700000e+01  2.300000e+01  3.200000e+01   \n",
       "out_prncp                    0.000000e+00  4.414700e+02  7.341650e+03   \n",
       "out_prncp_inv                0.000000e+00  4.413800e+02  7.338390e+03   \n",
       "total_pymnt                  5.552125e+03  9.419251e+03  1.530816e+04   \n",
       "total_pymnt_inv              5.499250e+03  9.355430e+03  1.523131e+04   \n",
       "total_rec_prncp              3.708560e+03  6.817760e+03  1.200000e+04   \n",
       "total_rec_int                9.572800e+02  1.818880e+03  3.304530e+03   \n",
       "total_rec_late_fee           0.000000e+00  0.000000e+00  0.000000e+00   \n",
       "recoveries                   0.000000e+00  0.000000e+00  0.000000e+00   \n",
       "collection_recovery_fee      0.000000e+00  0.000000e+00  0.000000e+00   \n",
       "last_pymnt_amnt              3.126200e+02  5.459600e+02  3.187510e+03   \n",
       "collections_12_mths_ex_med   0.000000e+00  0.000000e+00  0.000000e+00   \n",
       "mths_since_last_major_derog  2.600000e+01  4.200000e+01  5.900000e+01   \n",
       "policy_code                  1.000000e+00  1.000000e+00  1.000000e+00   \n",
       "annual_inc_joint                      NaN           NaN           NaN   \n",
       "dti_joint                             NaN           NaN           NaN   \n",
       "verification_status_joint             NaN           NaN           NaN   \n",
       "acc_now_delinq               0.000000e+00  0.000000e+00  0.000000e+00   \n",
       "tot_coll_amt                 0.000000e+00  0.000000e+00  0.000000e+00   \n",
       "tot_cur_bal                  2.861800e+04  8.153900e+04  2.089530e+05   \n",
       "open_acc_6m                           NaN           NaN           NaN   \n",
       "open_il_6m                            NaN           NaN           NaN   \n",
       "open_il_12m                           NaN           NaN           NaN   \n",
       "open_il_24m                           NaN           NaN           NaN   \n",
       "mths_since_rcnt_il                    NaN           NaN           NaN   \n",
       "total_bal_il                          NaN           NaN           NaN   \n",
       "il_util                               NaN           NaN           NaN   \n",
       "open_rv_12m                           NaN           NaN           NaN   \n",
       "open_rv_24m                           NaN           NaN           NaN   \n",
       "max_bal_bc                            NaN           NaN           NaN   \n",
       "all_util                              NaN           NaN           NaN   \n",
       "total_rev_hi_lim             1.350000e+04  2.280000e+04  3.790000e+04   \n",
       "inq_fi                                NaN           NaN           NaN   \n",
       "total_cu_tl                           NaN           NaN           NaN   \n",
       "inq_last_12m                          NaN           NaN           NaN   \n",
       "\n",
       "                                      max  \n",
       "Unnamed: 0                   4.662840e+05  \n",
       "id                           3.809811e+07  \n",
       "member_id                    4.086083e+07  \n",
       "loan_amnt                    3.500000e+04  \n",
       "funded_amnt                  3.500000e+04  \n",
       "funded_amnt_inv              3.500000e+04  \n",
       "int_rate                     2.606000e+01  \n",
       "installment                  1.409990e+03  \n",
       "annual_inc                   7.500000e+06  \n",
       "dti                          3.999000e+01  \n",
       "delinq_2yrs                  2.900000e+01  \n",
       "inq_last_6mths               3.300000e+01  \n",
       "mths_since_last_delinq       1.880000e+02  \n",
       "mths_since_last_record       1.290000e+02  \n",
       "open_acc                     8.400000e+01  \n",
       "pub_rec                      6.300000e+01  \n",
       "revol_bal                    2.568995e+06  \n",
       "revol_util                   8.923000e+02  \n",
       "total_acc                    1.560000e+02  \n",
       "out_prncp                    3.216038e+04  \n",
       "out_prncp_inv                3.216038e+04  \n",
       "total_pymnt                  5.777758e+04  \n",
       "total_pymnt_inv              5.777758e+04  \n",
       "total_rec_prncp              3.500003e+04  \n",
       "total_rec_int                2.420562e+04  \n",
       "total_rec_late_fee           3.586800e+02  \n",
       "recoveries                   3.352027e+04  \n",
       "collection_recovery_fee      7.002190e+03  \n",
       "last_pymnt_amnt              3.623444e+04  \n",
       "collections_12_mths_ex_med   2.000000e+01  \n",
       "mths_since_last_major_derog  1.880000e+02  \n",
       "policy_code                  1.000000e+00  \n",
       "annual_inc_joint                      NaN  \n",
       "dti_joint                             NaN  \n",
       "verification_status_joint             NaN  \n",
       "acc_now_delinq               5.000000e+00  \n",
       "tot_coll_amt                 9.152545e+06  \n",
       "tot_cur_bal                  8.000078e+06  \n",
       "open_acc_6m                           NaN  \n",
       "open_il_6m                            NaN  \n",
       "open_il_12m                           NaN  \n",
       "open_il_24m                           NaN  \n",
       "mths_since_rcnt_il                    NaN  \n",
       "total_bal_il                          NaN  \n",
       "il_util                               NaN  \n",
       "open_rv_12m                           NaN  \n",
       "open_rv_24m                           NaN  \n",
       "max_bal_bc                            NaN  \n",
       "all_util                              NaN  \n",
       "total_rev_hi_lim             9.999999e+06  \n",
       "inq_fi                                NaN  \n",
       "total_cu_tl                           NaN  \n",
       "inq_last_12m                          NaN  "
      ]
     },
     "execution_count": 10,
     "metadata": {},
     "output_type": "execute_result"
    }
   ],
   "source": [
    "# Looking the Describe of Data\n",
    "df.describe().T"
   ]
  },
  {
   "cell_type": "markdown",
   "id": "a2af0972",
   "metadata": {},
   "source": [
    "## Data Preparation"
   ]
  },
  {
   "cell_type": "markdown",
   "id": "ef810595",
   "metadata": {},
   "source": [
    "Remove unnecessary columns : unique id ('id', 'member_id'), free text( 'url','desc') all empty values (NULL)."
   ]
  },
  {
   "cell_type": "code",
   "execution_count": 11,
   "id": "5359a95e",
   "metadata": {},
   "outputs": [],
   "source": [
    "cols_to_drop = ['Unnamed: 0','id','member_id'\n",
    "    ,'sub_grade'\n",
    "    ,'url' \n",
    "    , 'desc'\n",
    "    , 'zip_code' \n",
    "    , 'annual_inc_joint'\n",
    "    , 'dti_joint'\n",
    "    , 'verification_status_joint'\n",
    "    , 'open_acc_6m'\n",
    "    , 'open_il_6m'\n",
    "    , 'open_il_12m'\n",
    "    , 'open_il_24m'\n",
    "    , 'mths_since_rcnt_il'\n",
    "    , 'total_bal_il'\n",
    "    , 'il_util'\n",
    "    , 'open_rv_12m'\n",
    "    , 'open_rv_24m'\n",
    "    , 'max_bal_bc'\n",
    "    , 'all_util'\n",
    "    , 'inq_fi'\n",
    "    , 'total_cu_tl'\n",
    "    , 'inq_last_12m']\n"
   ]
  },
  {
   "cell_type": "code",
   "execution_count": 12,
   "id": "5c7090a8",
   "metadata": {},
   "outputs": [
    {
     "data": {
      "text/html": [
       "<div>\n",
       "<style scoped>\n",
       "    .dataframe tbody tr th:only-of-type {\n",
       "        vertical-align: middle;\n",
       "    }\n",
       "\n",
       "    .dataframe tbody tr th {\n",
       "        vertical-align: top;\n",
       "    }\n",
       "\n",
       "    .dataframe thead th {\n",
       "        text-align: right;\n",
       "    }\n",
       "</style>\n",
       "<table border=\"1\" class=\"dataframe\">\n",
       "  <thead>\n",
       "    <tr style=\"text-align: right;\">\n",
       "      <th></th>\n",
       "      <th>loan_amnt</th>\n",
       "      <th>funded_amnt</th>\n",
       "      <th>funded_amnt_inv</th>\n",
       "      <th>term</th>\n",
       "      <th>int_rate</th>\n",
       "      <th>installment</th>\n",
       "      <th>grade</th>\n",
       "      <th>emp_title</th>\n",
       "      <th>emp_length</th>\n",
       "      <th>home_ownership</th>\n",
       "      <th>...</th>\n",
       "      <th>next_pymnt_d</th>\n",
       "      <th>last_credit_pull_d</th>\n",
       "      <th>collections_12_mths_ex_med</th>\n",
       "      <th>mths_since_last_major_derog</th>\n",
       "      <th>policy_code</th>\n",
       "      <th>application_type</th>\n",
       "      <th>acc_now_delinq</th>\n",
       "      <th>tot_coll_amt</th>\n",
       "      <th>tot_cur_bal</th>\n",
       "      <th>total_rev_hi_lim</th>\n",
       "    </tr>\n",
       "  </thead>\n",
       "  <tbody>\n",
       "    <tr>\n",
       "      <th>358259</th>\n",
       "      <td>33000</td>\n",
       "      <td>33000</td>\n",
       "      <td>32700.0</td>\n",
       "      <td>36 months</td>\n",
       "      <td>12.99</td>\n",
       "      <td>1111.75</td>\n",
       "      <td>C</td>\n",
       "      <td>Physical therapist</td>\n",
       "      <td>2 years</td>\n",
       "      <td>MORTGAGE</td>\n",
       "      <td>...</td>\n",
       "      <td>Feb-16</td>\n",
       "      <td>Jan-16</td>\n",
       "      <td>0.0</td>\n",
       "      <td>NaN</td>\n",
       "      <td>1</td>\n",
       "      <td>INDIVIDUAL</td>\n",
       "      <td>0.0</td>\n",
       "      <td>0.0</td>\n",
       "      <td>447430.0</td>\n",
       "      <td>40600.0</td>\n",
       "    </tr>\n",
       "    <tr>\n",
       "      <th>133099</th>\n",
       "      <td>11500</td>\n",
       "      <td>11500</td>\n",
       "      <td>11500.0</td>\n",
       "      <td>36 months</td>\n",
       "      <td>15.80</td>\n",
       "      <td>403.18</td>\n",
       "      <td>C</td>\n",
       "      <td>Hariworld Travel Group</td>\n",
       "      <td>6 years</td>\n",
       "      <td>MORTGAGE</td>\n",
       "      <td>...</td>\n",
       "      <td>NaN</td>\n",
       "      <td>Jan-16</td>\n",
       "      <td>0.0</td>\n",
       "      <td>NaN</td>\n",
       "      <td>1</td>\n",
       "      <td>INDIVIDUAL</td>\n",
       "      <td>0.0</td>\n",
       "      <td>0.0</td>\n",
       "      <td>36318.0</td>\n",
       "      <td>32400.0</td>\n",
       "    </tr>\n",
       "    <tr>\n",
       "      <th>128497</th>\n",
       "      <td>22000</td>\n",
       "      <td>22000</td>\n",
       "      <td>22000.0</td>\n",
       "      <td>60 months</td>\n",
       "      <td>8.90</td>\n",
       "      <td>455.62</td>\n",
       "      <td>A</td>\n",
       "      <td>USPS</td>\n",
       "      <td>10+ years</td>\n",
       "      <td>MORTGAGE</td>\n",
       "      <td>...</td>\n",
       "      <td>NaN</td>\n",
       "      <td>Apr-15</td>\n",
       "      <td>0.0</td>\n",
       "      <td>NaN</td>\n",
       "      <td>1</td>\n",
       "      <td>INDIVIDUAL</td>\n",
       "      <td>0.0</td>\n",
       "      <td>0.0</td>\n",
       "      <td>125062.0</td>\n",
       "      <td>80412.0</td>\n",
       "    </tr>\n",
       "    <tr>\n",
       "      <th>277127</th>\n",
       "      <td>33025</td>\n",
       "      <td>33025</td>\n",
       "      <td>33025.0</td>\n",
       "      <td>60 months</td>\n",
       "      <td>13.35</td>\n",
       "      <td>757.36</td>\n",
       "      <td>C</td>\n",
       "      <td>Transportation Supervisor</td>\n",
       "      <td>10+ years</td>\n",
       "      <td>MORTGAGE</td>\n",
       "      <td>...</td>\n",
       "      <td>NaN</td>\n",
       "      <td>Nov-15</td>\n",
       "      <td>0.0</td>\n",
       "      <td>NaN</td>\n",
       "      <td>1</td>\n",
       "      <td>INDIVIDUAL</td>\n",
       "      <td>0.0</td>\n",
       "      <td>612.0</td>\n",
       "      <td>149941.0</td>\n",
       "      <td>71500.0</td>\n",
       "    </tr>\n",
       "    <tr>\n",
       "      <th>447254</th>\n",
       "      <td>20225</td>\n",
       "      <td>20225</td>\n",
       "      <td>20225.0</td>\n",
       "      <td>60 months</td>\n",
       "      <td>22.90</td>\n",
       "      <td>569.00</td>\n",
       "      <td>E</td>\n",
       "      <td>BUYER</td>\n",
       "      <td>7 years</td>\n",
       "      <td>MORTGAGE</td>\n",
       "      <td>...</td>\n",
       "      <td>Feb-16</td>\n",
       "      <td>Jan-16</td>\n",
       "      <td>0.0</td>\n",
       "      <td>33.0</td>\n",
       "      <td>1</td>\n",
       "      <td>INDIVIDUAL</td>\n",
       "      <td>0.0</td>\n",
       "      <td>0.0</td>\n",
       "      <td>218098.0</td>\n",
       "      <td>13200.0</td>\n",
       "    </tr>\n",
       "    <tr>\n",
       "      <th>414021</th>\n",
       "      <td>3000</td>\n",
       "      <td>3000</td>\n",
       "      <td>3000.0</td>\n",
       "      <td>36 months</td>\n",
       "      <td>10.99</td>\n",
       "      <td>98.21</td>\n",
       "      <td>B</td>\n",
       "      <td>Payroll Sales Manager</td>\n",
       "      <td>3 years</td>\n",
       "      <td>RENT</td>\n",
       "      <td>...</td>\n",
       "      <td>NaN</td>\n",
       "      <td>Jan-16</td>\n",
       "      <td>0.0</td>\n",
       "      <td>NaN</td>\n",
       "      <td>1</td>\n",
       "      <td>INDIVIDUAL</td>\n",
       "      <td>0.0</td>\n",
       "      <td>0.0</td>\n",
       "      <td>50991.0</td>\n",
       "      <td>52200.0</td>\n",
       "    </tr>\n",
       "    <tr>\n",
       "      <th>6129</th>\n",
       "      <td>6000</td>\n",
       "      <td>6000</td>\n",
       "      <td>6000.0</td>\n",
       "      <td>36 months</td>\n",
       "      <td>8.90</td>\n",
       "      <td>190.52</td>\n",
       "      <td>A</td>\n",
       "      <td>Ocean Conservancy</td>\n",
       "      <td>6 years</td>\n",
       "      <td>MORTGAGE</td>\n",
       "      <td>...</td>\n",
       "      <td>NaN</td>\n",
       "      <td>Dec-15</td>\n",
       "      <td>0.0</td>\n",
       "      <td>NaN</td>\n",
       "      <td>1</td>\n",
       "      <td>INDIVIDUAL</td>\n",
       "      <td>0.0</td>\n",
       "      <td>NaN</td>\n",
       "      <td>NaN</td>\n",
       "      <td>NaN</td>\n",
       "    </tr>\n",
       "    <tr>\n",
       "      <th>410042</th>\n",
       "      <td>4000</td>\n",
       "      <td>4000</td>\n",
       "      <td>4000.0</td>\n",
       "      <td>36 months</td>\n",
       "      <td>15.31</td>\n",
       "      <td>139.27</td>\n",
       "      <td>C</td>\n",
       "      <td>Educational counsler</td>\n",
       "      <td>2 years</td>\n",
       "      <td>RENT</td>\n",
       "      <td>...</td>\n",
       "      <td>Feb-16</td>\n",
       "      <td>Jan-16</td>\n",
       "      <td>1.0</td>\n",
       "      <td>64.0</td>\n",
       "      <td>1</td>\n",
       "      <td>INDIVIDUAL</td>\n",
       "      <td>0.0</td>\n",
       "      <td>463.0</td>\n",
       "      <td>1172.0</td>\n",
       "      <td>5900.0</td>\n",
       "    </tr>\n",
       "    <tr>\n",
       "      <th>261144</th>\n",
       "      <td>4000</td>\n",
       "      <td>4000</td>\n",
       "      <td>4000.0</td>\n",
       "      <td>36 months</td>\n",
       "      <td>15.99</td>\n",
       "      <td>140.61</td>\n",
       "      <td>D</td>\n",
       "      <td>Administrative Exam Specialist</td>\n",
       "      <td>6 years</td>\n",
       "      <td>MORTGAGE</td>\n",
       "      <td>...</td>\n",
       "      <td>Feb-16</td>\n",
       "      <td>Jan-16</td>\n",
       "      <td>0.0</td>\n",
       "      <td>81.0</td>\n",
       "      <td>1</td>\n",
       "      <td>INDIVIDUAL</td>\n",
       "      <td>0.0</td>\n",
       "      <td>0.0</td>\n",
       "      <td>89137.0</td>\n",
       "      <td>16800.0</td>\n",
       "    </tr>\n",
       "    <tr>\n",
       "      <th>23931</th>\n",
       "      <td>24250</td>\n",
       "      <td>14925</td>\n",
       "      <td>14925.0</td>\n",
       "      <td>36 months</td>\n",
       "      <td>6.17</td>\n",
       "      <td>455.20</td>\n",
       "      <td>A</td>\n",
       "      <td>Sierra Nevada Corporation</td>\n",
       "      <td>&lt; 1 year</td>\n",
       "      <td>MORTGAGE</td>\n",
       "      <td>...</td>\n",
       "      <td>NaN</td>\n",
       "      <td>Jan-16</td>\n",
       "      <td>0.0</td>\n",
       "      <td>NaN</td>\n",
       "      <td>1</td>\n",
       "      <td>INDIVIDUAL</td>\n",
       "      <td>0.0</td>\n",
       "      <td>NaN</td>\n",
       "      <td>NaN</td>\n",
       "      <td>NaN</td>\n",
       "    </tr>\n",
       "  </tbody>\n",
       "</table>\n",
       "<p>10 rows × 51 columns</p>\n",
       "</div>"
      ],
      "text/plain": [
       "        loan_amnt  funded_amnt  funded_amnt_inv        term  int_rate  \\\n",
       "358259      33000        33000          32700.0   36 months     12.99   \n",
       "133099      11500        11500          11500.0   36 months     15.80   \n",
       "128497      22000        22000          22000.0   60 months      8.90   \n",
       "277127      33025        33025          33025.0   60 months     13.35   \n",
       "447254      20225        20225          20225.0   60 months     22.90   \n",
       "414021       3000         3000           3000.0   36 months     10.99   \n",
       "6129         6000         6000           6000.0   36 months      8.90   \n",
       "410042       4000         4000           4000.0   36 months     15.31   \n",
       "261144       4000         4000           4000.0   36 months     15.99   \n",
       "23931       24250        14925          14925.0   36 months      6.17   \n",
       "\n",
       "        installment grade                       emp_title emp_length  \\\n",
       "358259      1111.75     C              Physical therapist    2 years   \n",
       "133099       403.18     C          Hariworld Travel Group    6 years   \n",
       "128497       455.62     A                            USPS  10+ years   \n",
       "277127       757.36     C       Transportation Supervisor  10+ years   \n",
       "447254       569.00     E                           BUYER    7 years   \n",
       "414021        98.21     B           Payroll Sales Manager    3 years   \n",
       "6129         190.52     A               Ocean Conservancy    6 years   \n",
       "410042       139.27     C            Educational counsler    2 years   \n",
       "261144       140.61     D  Administrative Exam Specialist    6 years   \n",
       "23931        455.20     A       Sierra Nevada Corporation   < 1 year   \n",
       "\n",
       "       home_ownership  ...  next_pymnt_d last_credit_pull_d  \\\n",
       "358259       MORTGAGE  ...        Feb-16             Jan-16   \n",
       "133099       MORTGAGE  ...           NaN             Jan-16   \n",
       "128497       MORTGAGE  ...           NaN             Apr-15   \n",
       "277127       MORTGAGE  ...           NaN             Nov-15   \n",
       "447254       MORTGAGE  ...        Feb-16             Jan-16   \n",
       "414021           RENT  ...           NaN             Jan-16   \n",
       "6129         MORTGAGE  ...           NaN             Dec-15   \n",
       "410042           RENT  ...        Feb-16             Jan-16   \n",
       "261144       MORTGAGE  ...        Feb-16             Jan-16   \n",
       "23931        MORTGAGE  ...           NaN             Jan-16   \n",
       "\n",
       "       collections_12_mths_ex_med mths_since_last_major_derog policy_code  \\\n",
       "358259                        0.0                         NaN           1   \n",
       "133099                        0.0                         NaN           1   \n",
       "128497                        0.0                         NaN           1   \n",
       "277127                        0.0                         NaN           1   \n",
       "447254                        0.0                        33.0           1   \n",
       "414021                        0.0                         NaN           1   \n",
       "6129                          0.0                         NaN           1   \n",
       "410042                        1.0                        64.0           1   \n",
       "261144                        0.0                        81.0           1   \n",
       "23931                         0.0                         NaN           1   \n",
       "\n",
       "       application_type acc_now_delinq tot_coll_amt  tot_cur_bal  \\\n",
       "358259       INDIVIDUAL            0.0          0.0     447430.0   \n",
       "133099       INDIVIDUAL            0.0          0.0      36318.0   \n",
       "128497       INDIVIDUAL            0.0          0.0     125062.0   \n",
       "277127       INDIVIDUAL            0.0        612.0     149941.0   \n",
       "447254       INDIVIDUAL            0.0          0.0     218098.0   \n",
       "414021       INDIVIDUAL            0.0          0.0      50991.0   \n",
       "6129         INDIVIDUAL            0.0          NaN          NaN   \n",
       "410042       INDIVIDUAL            0.0        463.0       1172.0   \n",
       "261144       INDIVIDUAL            0.0          0.0      89137.0   \n",
       "23931        INDIVIDUAL            0.0          NaN          NaN   \n",
       "\n",
       "        total_rev_hi_lim  \n",
       "358259           40600.0  \n",
       "133099           32400.0  \n",
       "128497           80412.0  \n",
       "277127           71500.0  \n",
       "447254           13200.0  \n",
       "414021           52200.0  \n",
       "6129                 NaN  \n",
       "410042            5900.0  \n",
       "261144           16800.0  \n",
       "23931                NaN  \n",
       "\n",
       "[10 rows x 51 columns]"
      ]
     },
     "execution_count": 12,
     "metadata": {},
     "output_type": "execute_result"
    }
   ],
   "source": [
    "df = df.drop(cols_to_drop, axis=1)\n",
    "df.sample(10)"
   ]
  },
  {
   "cell_type": "code",
   "execution_count": 13,
   "id": "4bb24ecf",
   "metadata": {
    "scrolled": false
   },
   "outputs": [
    {
     "data": {
      "text/plain": [
       "loan_amnt                           0\n",
       "funded_amnt                         0\n",
       "funded_amnt_inv                     0\n",
       "term                                0\n",
       "int_rate                            0\n",
       "installment                         0\n",
       "grade                               0\n",
       "emp_title                       27588\n",
       "emp_length                      21008\n",
       "home_ownership                      0\n",
       "annual_inc                          4\n",
       "verification_status                 0\n",
       "issue_d                             0\n",
       "loan_status                         0\n",
       "pymnt_plan                          0\n",
       "purpose                             0\n",
       "title                              20\n",
       "addr_state                          0\n",
       "dti                                 0\n",
       "delinq_2yrs                        29\n",
       "earliest_cr_line                   29\n",
       "inq_last_6mths                     29\n",
       "mths_since_last_delinq         250351\n",
       "mths_since_last_record         403647\n",
       "open_acc                           29\n",
       "pub_rec                            29\n",
       "revol_bal                           0\n",
       "revol_util                        340\n",
       "total_acc                          29\n",
       "initial_list_status                 0\n",
       "out_prncp                           0\n",
       "out_prncp_inv                       0\n",
       "total_pymnt                         0\n",
       "total_pymnt_inv                     0\n",
       "total_rec_prncp                     0\n",
       "total_rec_int                       0\n",
       "total_rec_late_fee                  0\n",
       "recoveries                          0\n",
       "collection_recovery_fee             0\n",
       "last_pymnt_d                      376\n",
       "last_pymnt_amnt                     0\n",
       "next_pymnt_d                   227214\n",
       "last_credit_pull_d                 42\n",
       "collections_12_mths_ex_med        145\n",
       "mths_since_last_major_derog    367311\n",
       "policy_code                         0\n",
       "application_type                    0\n",
       "acc_now_delinq                     29\n",
       "tot_coll_amt                    70276\n",
       "tot_cur_bal                     70276\n",
       "total_rev_hi_lim                70276\n",
       "dtype: int64"
      ]
     },
     "execution_count": 13,
     "metadata": {},
     "output_type": "execute_result"
    }
   ],
   "source": [
    "# missing values (NaNs)\n",
    "df.isnull().sum()"
   ]
  },
  {
   "cell_type": "code",
   "execution_count": 14,
   "id": "9f3dc530",
   "metadata": {},
   "outputs": [
    {
     "data": {
      "text/plain": [
       "loan_amnt                       0.000000\n",
       "funded_amnt                     0.000000\n",
       "funded_amnt_inv                 0.000000\n",
       "term                            0.000000\n",
       "int_rate                        0.000000\n",
       "installment                     0.000000\n",
       "grade                           0.000000\n",
       "emp_title                       5.916553\n",
       "emp_length                      4.505399\n",
       "home_ownership                  0.000000\n",
       "annual_inc                      0.000858\n",
       "verification_status             0.000000\n",
       "issue_d                         0.000000\n",
       "loan_status                     0.000000\n",
       "pymnt_plan                      0.000000\n",
       "purpose                         0.000000\n",
       "title                           0.004289\n",
       "addr_state                      0.000000\n",
       "dti                             0.000000\n",
       "delinq_2yrs                     0.006219\n",
       "earliest_cr_line                0.006219\n",
       "inq_last_6mths                  0.006219\n",
       "mths_since_last_delinq         53.690554\n",
       "mths_since_last_record         86.566585\n",
       "open_acc                        0.006219\n",
       "pub_rec                         0.006219\n",
       "revol_bal                       0.000000\n",
       "revol_util                      0.072917\n",
       "total_acc                       0.006219\n",
       "initial_list_status             0.000000\n",
       "out_prncp                       0.000000\n",
       "out_prncp_inv                   0.000000\n",
       "total_pymnt                     0.000000\n",
       "total_pymnt_inv                 0.000000\n",
       "total_rec_prncp                 0.000000\n",
       "total_rec_int                   0.000000\n",
       "total_rec_late_fee              0.000000\n",
       "recoveries                      0.000000\n",
       "collection_recovery_fee         0.000000\n",
       "last_pymnt_d                    0.080637\n",
       "last_pymnt_amnt                 0.000000\n",
       "next_pymnt_d                   48.728567\n",
       "last_credit_pull_d              0.009007\n",
       "collections_12_mths_ex_med      0.031097\n",
       "mths_since_last_major_derog    78.773926\n",
       "policy_code                     0.000000\n",
       "application_type                0.000000\n",
       "acc_now_delinq                  0.006219\n",
       "tot_coll_amt                   15.071469\n",
       "tot_cur_bal                    15.071469\n",
       "total_rev_hi_lim               15.071469\n",
       "dtype: float64"
      ]
     },
     "execution_count": 14,
     "metadata": {},
     "output_type": "execute_result"
    }
   ],
   "source": [
    "# percentage of missing values\n",
    "df.isnull().sum()*100/len(df)"
   ]
  },
  {
   "cell_type": "markdown",
   "id": "71238ad9",
   "metadata": {},
   "source": [
    "### Define Target Variable/Labeling"
   ]
  },
  {
   "cell_type": "markdown",
   "id": "6028b0ff",
   "metadata": {},
   "source": [
    "Credit risk modeling is to predict an individual's ability to make payments on the loan/credit given\n",
    "*  Target Variable =`loan_status'"
   ]
  },
  {
   "cell_type": "code",
   "execution_count": 15,
   "id": "8cc76fe0",
   "metadata": {},
   "outputs": [
    {
     "data": {
      "text/plain": [
       "Current                                                48.087757\n",
       "Fully Paid                                             39.619332\n",
       "Charged Off                                             9.109236\n",
       "Late (31-120 days)                                      1.479782\n",
       "In Grace Period                                         0.674695\n",
       "Does not meet the credit policy. Status:Fully Paid      0.426349\n",
       "Late (16-30 days)                                       0.261214\n",
       "Default                                                 0.178432\n",
       "Does not meet the credit policy. Status:Charged Off     0.163205\n",
       "Name: loan_status, dtype: float64"
      ]
     },
     "execution_count": 15,
     "metadata": {},
     "output_type": "execute_result"
    }
   ],
   "source": [
    "df.loan_status.value_counts(normalize=True)*100"
   ]
  },
  {
   "cell_type": "markdown",
   "id": "0d4a9dab",
   "metadata": {},
   "source": [
    "Define of target variabel `bad loan` & `good loan` (peminjam yang baik)"
   ]
  },
  {
   "cell_type": "code",
   "execution_count": 16,
   "id": "af39b8a9",
   "metadata": {},
   "outputs": [],
   "source": [
    "bad_status = ['Charged Off' \n",
    "    , 'Default' \n",
    "    , 'Does not meet the credit policy. Status:Charged Off'\n",
    "    , 'Late (31-120 days)']\n",
    "\n",
    "df['bad_flag'] = np.where(df['loan_status'].isin(bad_status), 1, 0)"
   ]
  },
  {
   "cell_type": "code",
   "execution_count": 17,
   "id": "4abdc62f",
   "metadata": {},
   "outputs": [
    {
     "data": {
      "text/plain": [
       "0    89.069346\n",
       "1    10.930654\n",
       "Name: bad_flag, dtype: float64"
      ]
     },
     "execution_count": 17,
     "metadata": {},
     "output_type": "execute_result"
    }
   ],
   "source": [
    "df['bad_flag'].value_counts(normalize=True)*100"
   ]
  },
  {
   "cell_type": "code",
   "execution_count": 18,
   "id": "6f9456cf",
   "metadata": {},
   "outputs": [],
   "source": [
    "df.drop('loan_status',axis=1, inplace=True)"
   ]
  },
  {
   "cell_type": "markdown",
   "id": "6e9e7ce8",
   "metadata": {},
   "source": [
    "###  CLEANING, PREPROCESSING, FEATURE ENGINEERING"
   ]
  },
  {
   "cell_type": "markdown",
   "id": "235d0d21",
   "metadata": {},
   "source": [
    "cleaning/modification"
   ]
  },
  {
   "cell_type": "markdown",
   "id": "6fe0b8b2",
   "metadata": {},
   "source": [
    "### emp_length\n"
   ]
  },
  {
   "cell_type": "code",
   "execution_count": 19,
   "id": "dcffe364",
   "metadata": {},
   "outputs": [
    {
     "data": {
      "text/plain": [
       "array(['10+ years', '< 1 year', '1 year', '3 years', '8 years', '9 years',\n",
       "       '4 years', '5 years', '6 years', '2 years', '7 years', nan],\n",
       "      dtype=object)"
      ]
     },
     "execution_count": 19,
     "metadata": {},
     "output_type": "execute_result"
    }
   ],
   "source": [
    "df['emp_length'].unique()"
   ]
  },
  {
   "cell_type": "code",
   "execution_count": 20,
   "id": "73ba08c3",
   "metadata": {},
   "outputs": [
    {
     "name": "stderr",
     "output_type": "stream",
     "text": [
      "C:\\Users\\AASH\\AppData\\Local\\Temp/ipykernel_7264/1732335877.py:1: FutureWarning: The default value of regex will change from True to False in a future version.\n",
      "  df['emp_length_int'] = df['emp_length'].str.replace('\\+ years', '')\n"
     ]
    }
   ],
   "source": [
    "df['emp_length_int'] = df['emp_length'].str.replace('\\+ years', '')\n",
    "df['emp_length_int'] = df['emp_length_int'].str.replace('< 1 year', str(0))\n",
    "df['emp_length_int'] = df['emp_length_int'].str.replace(' years', '')\n",
    "df['emp_length_int'] = df['emp_length_int'].str.replace(' year', '')"
   ]
  },
  {
   "cell_type": "code",
   "execution_count": 21,
   "id": "88eee327",
   "metadata": {},
   "outputs": [],
   "source": [
    "df['emp_length_int']=df['emp_length_int'].astype(float)"
   ]
  },
  {
   "cell_type": "code",
   "execution_count": 22,
   "id": "548d908a",
   "metadata": {},
   "outputs": [],
   "source": [
    "df.drop('emp_length',axis=1,inplace=True)"
   ]
  },
  {
   "cell_type": "markdown",
   "id": "bb4d939b",
   "metadata": {},
   "source": [
    "### term"
   ]
  },
  {
   "cell_type": "code",
   "execution_count": 23,
   "id": "120e1b29",
   "metadata": {},
   "outputs": [
    {
     "data": {
      "text/plain": [
       "array([' 36 months', ' 60 months'], dtype=object)"
      ]
     },
     "execution_count": 23,
     "metadata": {},
     "output_type": "execute_result"
    }
   ],
   "source": [
    "df['term'].unique()"
   ]
  },
  {
   "cell_type": "code",
   "execution_count": 24,
   "id": "ff549345",
   "metadata": {},
   "outputs": [],
   "source": [
    "df['term_int'] = df['term'].str.replace('months','')\n",
    "df['term_int'] = df['term_int'].astype(float)"
   ]
  },
  {
   "cell_type": "code",
   "execution_count": 25,
   "id": "fbc12169",
   "metadata": {},
   "outputs": [],
   "source": [
    "df.drop('term',axis=1,inplace=True)"
   ]
  },
  {
   "cell_type": "markdown",
   "id": "574e1dd5",
   "metadata": {},
   "source": [
    "### earliest_cr_line"
   ]
  },
  {
   "cell_type": "code",
   "execution_count": 26,
   "id": "2edf8273",
   "metadata": {},
   "outputs": [
    {
     "data": {
      "text/plain": [
       "array(['Jan-85', 'Apr-99', 'Nov-01', 'Feb-96', 'Jan-96', 'Nov-04',\n",
       "       'Jul-05', 'Jan-07', 'Apr-04', 'Sep-04', 'Jan-98', 'Oct-89',\n",
       "       'Jul-03', 'May-91', 'Sep-07', 'Oct-98', 'Aug-93', 'Oct-03',\n",
       "       'Jan-01', 'Nov-97', 'Feb-83', 'Jul-85', 'Apr-03', 'Jun-01',\n",
       "       'Feb-02', 'Aug-84', 'Nov-06', 'Dec-87', 'Nov-81', 'Feb-97',\n",
       "       'Apr-05', 'Oct-07', 'Dec-00', 'Apr-07', 'Dec-01', 'Jan-03',\n",
       "       'Mar-94', 'Sep-98', 'Jun-04', 'Nov-95', 'Jul-99', 'Jun-95',\n",
       "       'Sep-92', 'Jan-02', 'Apr-92', 'Oct-06', 'May-00', 'Dec-98',\n",
       "       'Dec-04', 'Oct-00', 'May-02', 'May-06', 'Jul-02', 'Jul-06',\n",
       "       'May-97', 'Oct-05', 'Apr-95', 'Oct-02', 'Jan-00', 'Apr-00',\n",
       "       'Dec-94', 'Sep-05', 'Dec-84', 'Dec-99', 'Nov-03', 'Jun-89',\n",
       "       'Jun-03', 'Oct-96', 'May-03', 'Jun-02', 'Jun-07', 'Dec-96',\n",
       "       'Feb-84', 'Sep-02', 'Jan-86', 'May-98', 'Jan-97', 'Jun-05',\n",
       "       'Feb-90', 'Mar-04', 'Jul-95', 'Aug-94', 'Jun-92', 'Mar-97',\n",
       "       'Apr-06', 'Apr-90', 'Aug-99', 'Sep-00', 'Feb-01', 'Dec-88',\n",
       "       'Feb-99', 'Dec-91', 'Aug-00', 'Oct-04', 'Aug-04', 'Feb-05',\n",
       "       'Nov-05', 'Nov-00', 'May-07', 'Jan-91', 'Jun-00', 'Aug-06',\n",
       "       'Dec-02', 'Jun-93', 'Jun-06', 'Feb-04', 'Dec-90', 'Mar-00',\n",
       "       'Feb-95', 'Jul-01', 'Apr-02', 'Sep-06', 'May-99', 'Aug-98',\n",
       "       'Dec-05', 'May-04', 'Oct-01', 'Jun-83', 'Mar-86', 'Apr-80',\n",
       "       'Jul-04', 'Jul-08', 'May-96', 'Jan-04', 'Nov-02', 'Aug-02',\n",
       "       'Aug-01', 'Mar-91', 'Sep-89', 'Sep-94', 'Sep-03', 'Sep-99',\n",
       "       'Aug-05', 'Dec-86', 'Nov-98', 'Feb-06', 'May-94', 'Nov-07',\n",
       "       'Feb-93', 'Nov-91', 'May-05', 'Dec-73', 'May-01', 'Mar-90',\n",
       "       'Mar-96', 'Oct-79', 'Jun-81', 'Mar-01', 'Apr-01', 'Jun-99',\n",
       "       'Nov-93', 'Jan-06', 'Dec-97', 'Nov-94', 'Jul-97', 'Oct-91',\n",
       "       'Jun-94', 'Mar-06', 'Sep-96', 'Apr-91', 'Jul-93', 'Jan-95',\n",
       "       'Sep-87', 'Mar-03', 'Oct-99', 'Jul-96', 'Dec-03', 'Aug-88',\n",
       "       'Jan-92', 'Mar-98', 'Feb-07', 'Aug-82', 'Mar-95', 'Dec-92',\n",
       "       'Jul-98', 'Jul-89', 'May-90', 'Jul-94', 'Sep-01', 'Mar-84',\n",
       "       'Aug-03', 'Nov-99', 'Mar-07', 'Mar-08', 'Apr-94', 'Jan-05',\n",
       "       'Jul-86', 'Aug-90', 'May-92', 'Jul-00', 'Mar-88', 'May-83',\n",
       "       'Apr-93', 'Jul-78', 'Feb-00', 'Dec-81', 'Mar-92', 'Jan-81',\n",
       "       'Sep-90', 'Jun-98', 'May-93', 'Nov-96', 'Mar-02', 'Jan-88',\n",
       "       'Aug-97', 'Aug-87', 'Aug-08', 'Oct-94', 'Oct-86', 'Feb-94',\n",
       "       'Jun-96', 'Feb-98', 'Nov-08', 'Apr-98', 'Jul-79', 'Jan-93',\n",
       "       'May-87', 'Jul-71', 'Aug-07', 'Jun-97', 'Mar-80', 'Dec-06',\n",
       "       'Jul-07', 'Oct-95', 'Jul-91', 'Jul-92', 'Dec-72', 'Dec-93',\n",
       "       'Jan-99', 'Feb-03', 'Apr-97', 'Dec-95', 'Apr-96', 'Jul-90',\n",
       "       'Mar-70', 'Nov-84', 'Apr-84', 'Jul-84', 'Aug-95', 'Mar-99',\n",
       "       'Sep-88', 'Mar-89', 'Mar-87', 'Oct-97', 'Dec-80', 'Jan-94',\n",
       "       'Sep-95', 'Mar-05', 'Jan-89', 'Feb-92', 'Jan-90', 'Nov-90',\n",
       "       'Mar-69', 'Jun-75', 'Mar-85', 'Dec-07', 'Oct-93', 'Dec-89',\n",
       "       'Sep-80', 'Jun-88', 'May-78', 'Apr-73', 'Aug-89', 'Oct-90',\n",
       "       'Sep-91', 'Feb-82', 'Feb-87', 'Nov-85', 'Jan-84', 'Jul-88',\n",
       "       'May-08', 'Oct-85', 'Mar-83', 'Aug-91', 'Sep-86', 'Jun-90',\n",
       "       'Feb-86', 'Sep-97', 'Jun-84', 'Sep-81', 'Apr-86', 'Aug-79',\n",
       "       'Aug-80', 'Nov-92', 'Sep-93', 'Jun-87', 'Sep-82', 'Aug-92',\n",
       "       'Aug-85', 'Jul-83', 'Jun-91', 'Dec-83', 'Jan-87', 'Nov-78',\n",
       "       'Oct-84', 'Aug-96', 'Nov-89', 'Sep-76', 'Nov-86', 'Oct-87',\n",
       "       'Sep-08', 'May-77', 'May-86', 'Mar-81', 'Jan-83', 'Nov-76',\n",
       "       'Sep-79', 'Oct-83', 'Sep-62', 'Jun-85', 'May-82', 'Feb-88',\n",
       "       'Oct-92', 'Aug-83', 'Jun-73', 'Apr-85', 'Oct-88', 'Oct-81',\n",
       "       'Sep-68', 'Jul-74', 'Nov-87', 'May-95', 'Feb-91', 'Nov-88',\n",
       "       'Mar-93', 'Jun-08', 'Jul-80', 'Dec-82', 'Mar-75', 'Feb-80',\n",
       "       'Apr-88', 'Dec-79', 'Sep-85', 'Sep-71', 'Mar-78', 'Feb-08',\n",
       "       'Aug-78', 'Nov-70', 'Jun-79', 'Jun-80', 'Apr-89', 'Sep-83',\n",
       "       'Feb-89', 'Nov-83', 'Jun-86', 'Oct-82', 'Aug-86', 'Oct-80',\n",
       "       'May-88', 'Dec-85', 'Jan-82', 'Sep-77', 'Dec-76', 'Apr-82',\n",
       "       'May-84', 'Apr-08', 'Feb-79', 'Jan-08', 'Sep-64', 'Jul-87',\n",
       "       'Jan-78', 'May-89', 'Oct-77', 'Dec-75', 'Feb-85', 'Oct-08',\n",
       "       'Nov-82', 'May-75', 'May-85', 'Feb-71', 'Jun-77', 'Apr-81',\n",
       "       'May-79', 'Jan-72', 'Sep-67', 'Apr-78', 'Feb-65', 'Apr-83',\n",
       "       'Nov-75', 'Jun-67', 'Mar-74', 'Jul-72', 'Aug-67', 'Apr-71',\n",
       "       'Sep-84', 'May-81', 'Dec-70', 'Oct-73', 'Jan-71', 'Dec-63',\n",
       "       'Apr-74', 'Jan-80', 'Aug-69', 'Apr-75', 'Jul-77', 'Mar-77',\n",
       "       'Nov-69', 'Jan-76', 'Mar-82', 'Apr-87', 'Dec-69', 'May-74',\n",
       "       'Aug-74', 'Jun-72', 'Mar-63', 'Nov-79', 'Aug-75', 'Sep-74',\n",
       "       'Aug-81', 'May-73', 'Sep-73', 'Mar-73', 'Dec-77', 'Oct-76',\n",
       "       'Jan-74', 'Jan-70', 'Aug-68', 'Feb-76', 'Jan-75', 'Oct-72',\n",
       "       'Dec-74', 'Feb-73', 'Nov-65', 'Mar-72', 'Jun-82', 'Jun-74',\n",
       "       'May-65', 'Jun-71', 'Oct-70', 'Apr-76', 'Oct-71', 'Apr-77',\n",
       "       'Sep-78', 'Oct-78', 'Oct-54', 'Feb-81', 'Jan-77', 'Aug-77',\n",
       "       'Dec-78', 'Aug-76', 'Jun-68', 'Jun-78', 'Jun-69', 'May-80',\n",
       "       'Jan-79', 'Oct-65', 'Nov-74', 'Apr-66', 'Jun-76', 'Feb-72',\n",
       "       'May-76', 'Mar-68', 'Mar-76', 'Jul-70', 'Mar-79', 'Jul-76',\n",
       "       'Jul-82', 'Sep-65', 'Apr-67', 'Oct-63', 'Feb-70', 'Jul-73',\n",
       "       'Feb-78', 'Nov-71', 'Aug-72', 'Jul-75', 'Sep-70', 'Jul-81',\n",
       "       'Oct-64', 'Sep-72', 'May-70', 'May-63', 'Feb-69', 'Nov-80',\n",
       "       'Jul-67', 'Apr-70', 'Nov-77', 'Nov-66', 'May-71', 'Apr-79',\n",
       "       'May-72', 'Feb-68', 'Jul-64', 'Nov-67', 'Apr-64', 'Feb-75',\n",
       "       'Jun-59', 'Sep-56', 'Jun-66', 'Jan-46', 'Mar-66', 'Jan-63',\n",
       "       'Dec-50', 'Jul-69', 'Jan-68', 'Nov-73', 'Jun-70', 'Feb-77',\n",
       "       'Feb-74', 'Jan-73', 'Feb-66', 'Dec-61', 'Aug-73', 'Aug-70',\n",
       "       'Sep-69', 'Sep-75', 'Dec-68', 'Nov-54', 'Oct-69', 'Dec-65',\n",
       "       'Apr-72', 'Nov-72', 'Sep-63', 'Apr-69', 'Nov-62', 'Oct-67',\n",
       "       'May-67', 'Nov-61', 'Feb-67', 'Nov-68', 'Oct-75', 'Mar-71',\n",
       "       'Aug-71', 'Dec-66', 'Oct-68', 'Oct-74', 'Nov-63', 'Apr-68',\n",
       "       'May-69', 'Nov-59', nan, 'Oct-10', 'Dec-09', 'Nov-10', 'Jan-10',\n",
       "       'Dec-08', 'Sep-09', 'Jul-10', 'Jan-09', 'May-09', 'May-10',\n",
       "       'Sep-10', 'Apr-09', 'Nov-09', 'Apr-10', 'Mar-09', 'Feb-09',\n",
       "       'Aug-09', 'Oct-09', 'Jun-09', 'Jun-10', 'Jul-09', 'Feb-10',\n",
       "       'Mar-10', 'Aug-10', 'Jan-61', 'Oct-62', 'Jun-64', 'Apr-62',\n",
       "       'Jan-60', 'Sep-66', 'Mar-65', 'May-68', 'Jul-66', 'Dec-56',\n",
       "       'Dec-71', 'Apr-65', 'Jan-64', 'Jul-65', 'Jan-65', 'Jan-62',\n",
       "       'Aug-64', 'Jan-69', 'Oct-66', 'Jun-62', 'Dec-67', 'Oct-60',\n",
       "       'Jul-62', 'Dec-60', 'Jul-60', 'Jun-65', 'May-66', 'Oct-57',\n",
       "       'Aug-65', 'May-60', 'Jan-67', 'Nov-53', 'Oct-59', 'Jun-63',\n",
       "       'Mar-67', 'Jul-63', 'Nov-60', 'Mar-62', 'Mar-64', 'Jul-68',\n",
       "       'Feb-63', 'Jan-66', 'Dec-64', 'May-64', 'Oct-61', 'Aug-60',\n",
       "       'Mar-60', 'Apr-55', 'Sep-59', 'Aug-66', 'Jul-55', 'Aug-61',\n",
       "       'Nov-64', 'May-53', 'Nov-50', 'Nov-55', 'Mar-61', 'Feb-57',\n",
       "       'Aug-63', 'Feb-60', 'Sep-60', 'Feb-64', 'Dec-51', 'Nov-58',\n",
       "       'Aug-62', 'Oct-58', 'May-62', 'Mar-11', 'Jun-11', 'Dec-10',\n",
       "       'Oct-11', 'Sep-11', 'Jul-11', 'Apr-11', 'May-11', 'Jan-11',\n",
       "       'Feb-11', 'Aug-11', 'Apr-63', 'Nov-11', 'Dec-58', 'Jan-58',\n",
       "       'Jul-59', 'Jan-55', 'May-59', 'Aug-46', 'Apr-61', 'Jun-58',\n",
       "       'Jul-58', 'Jun-60', 'Jan-51', 'Dec-62', 'Mar-59', 'Aug-58',\n",
       "       'Jan-59', 'Feb-61', 'Sep-57', 'Jun-49', 'Jun-61', 'Jan-56',\n",
       "       'Jan-54', 'Jan-57', 'Jan-44', 'Oct-50', 'Jan-48', 'Jul-61',\n",
       "       'May-58', 'Jan-53', 'May-50', 'Nov-56'], dtype=object)"
      ]
     },
     "execution_count": 26,
     "metadata": {},
     "output_type": "execute_result"
    }
   ],
   "source": [
    "df['earliest_cr_line'].unique()"
   ]
  },
  {
   "cell_type": "code",
   "execution_count": 27,
   "id": "6c879901",
   "metadata": {},
   "outputs": [
    {
     "data": {
      "text/plain": [
       "0    Jan-85\n",
       "1    Apr-99\n",
       "2    Nov-01\n",
       "3    Feb-96\n",
       "4    Jan-96\n",
       "Name: earliest_cr_line, dtype: object"
      ]
     },
     "execution_count": 27,
     "metadata": {},
     "output_type": "execute_result"
    }
   ],
   "source": [
    "df['earliest_cr_line'].head(5)"
   ]
  },
  {
   "cell_type": "code",
   "execution_count": 28,
   "id": "731d6bbb",
   "metadata": {},
   "outputs": [
    {
     "data": {
      "text/plain": [
       "0   1985-01-01\n",
       "1   1999-04-01\n",
       "2   2001-11-01\n",
       "3   1996-02-01\n",
       "4   1996-01-01\n",
       "Name: earliest_cr_line_date, dtype: datetime64[ns]"
      ]
     },
     "execution_count": 28,
     "metadata": {},
     "output_type": "execute_result"
    }
   ],
   "source": [
    "df['earliest_cr_line_date'] = pd.to_datetime(df['earliest_cr_line'],format='%b-%y')\n",
    "df['earliest_cr_line_date'].head(5)"
   ]
  },
  {
   "cell_type": "code",
   "execution_count": 29,
   "id": "7d038de0",
   "metadata": {},
   "outputs": [
    {
     "data": {
      "text/plain": [
       "0    395.0\n",
       "1    224.0\n",
       "2    193.0\n",
       "3    262.0\n",
       "4    263.0\n",
       "Name: mths_since_earliest_cr_line, dtype: float64"
      ]
     },
     "execution_count": 29,
     "metadata": {},
     "output_type": "execute_result"
    }
   ],
   "source": [
    "df['mths_since_earliest_cr_line'] = round(pd.to_numeric((pd.to_datetime('2017-12-01')-df['earliest_cr_line_date'])/np.timedelta64(1, 'M')))\n",
    "df['mths_since_earliest_cr_line'].head(5)"
   ]
  },
  {
   "cell_type": "code",
   "execution_count": 30,
   "id": "cd0430a0",
   "metadata": {},
   "outputs": [
    {
     "data": {
      "text/plain": [
       "count    466256.000000\n",
       "mean        239.482430\n",
       "std          93.974829\n",
       "min        -612.000000\n",
       "25%         183.000000\n",
       "50%         225.000000\n",
       "75%         285.000000\n",
       "max         587.000000\n",
       "Name: mths_since_earliest_cr_line, dtype: float64"
      ]
     },
     "execution_count": 30,
     "metadata": {},
     "output_type": "execute_result"
    }
   ],
   "source": [
    "df['mths_since_earliest_cr_line'].describe()"
   ]
  },
  {
   "cell_type": "code",
   "execution_count": 31,
   "id": "3a4934f0",
   "metadata": {},
   "outputs": [
    {
     "data": {
      "text/html": [
       "<div>\n",
       "<style scoped>\n",
       "    .dataframe tbody tr th:only-of-type {\n",
       "        vertical-align: middle;\n",
       "    }\n",
       "\n",
       "    .dataframe tbody tr th {\n",
       "        vertical-align: top;\n",
       "    }\n",
       "\n",
       "    .dataframe thead th {\n",
       "        text-align: right;\n",
       "    }\n",
       "</style>\n",
       "<table border=\"1\" class=\"dataframe\">\n",
       "  <thead>\n",
       "    <tr style=\"text-align: right;\">\n",
       "      <th></th>\n",
       "      <th>earliest_cr_line</th>\n",
       "      <th>earliest_cr_line_date</th>\n",
       "      <th>mths_since_earliest_cr_line</th>\n",
       "    </tr>\n",
       "  </thead>\n",
       "  <tbody>\n",
       "    <tr>\n",
       "      <th>1580</th>\n",
       "      <td>Sep-62</td>\n",
       "      <td>2062-09-01</td>\n",
       "      <td>-537.0</td>\n",
       "    </tr>\n",
       "    <tr>\n",
       "      <th>1770</th>\n",
       "      <td>Sep-68</td>\n",
       "      <td>2068-09-01</td>\n",
       "      <td>-609.0</td>\n",
       "    </tr>\n",
       "    <tr>\n",
       "      <th>2799</th>\n",
       "      <td>Sep-64</td>\n",
       "      <td>2064-09-01</td>\n",
       "      <td>-561.0</td>\n",
       "    </tr>\n",
       "    <tr>\n",
       "      <th>3282</th>\n",
       "      <td>Sep-67</td>\n",
       "      <td>2067-09-01</td>\n",
       "      <td>-597.0</td>\n",
       "    </tr>\n",
       "    <tr>\n",
       "      <th>3359</th>\n",
       "      <td>Feb-65</td>\n",
       "      <td>2065-02-01</td>\n",
       "      <td>-566.0</td>\n",
       "    </tr>\n",
       "  </tbody>\n",
       "</table>\n",
       "</div>"
      ],
      "text/plain": [
       "     earliest_cr_line earliest_cr_line_date  mths_since_earliest_cr_line\n",
       "1580           Sep-62            2062-09-01                       -537.0\n",
       "1770           Sep-68            2068-09-01                       -609.0\n",
       "2799           Sep-64            2064-09-01                       -561.0\n",
       "3282           Sep-67            2067-09-01                       -597.0\n",
       "3359           Feb-65            2065-02-01                       -566.0"
      ]
     },
     "execution_count": 31,
     "metadata": {},
     "output_type": "execute_result"
    }
   ],
   "source": [
    "df[df['mths_since_earliest_cr_line']<0][['earliest_cr_line','earliest_cr_line_date','mths_since_earliest_cr_line']].head(5)"
   ]
  },
  {
   "cell_type": "markdown",
   "id": "3b8699e4",
   "metadata": {},
   "source": [
    "earliest_cr_line_date (2062) > 1962 "
   ]
  },
  {
   "cell_type": "code",
   "execution_count": 32,
   "id": "56346b93",
   "metadata": {},
   "outputs": [],
   "source": [
    "df.loc[df['mths_since_earliest_cr_line']<0, 'mths_since_earliest_cr_line'] = df['mths_since_earliest_cr_line'].max()"
   ]
  },
  {
   "cell_type": "code",
   "execution_count": 33,
   "id": "97dd388d",
   "metadata": {},
   "outputs": [],
   "source": [
    "df.drop(['earliest_cr_line','earliest_cr_line_date'], axis=1, inplace=True)"
   ]
  },
  {
   "cell_type": "markdown",
   "id": "4e630b99",
   "metadata": {},
   "source": [
    "### issue_d"
   ]
  },
  {
   "cell_type": "code",
   "execution_count": 34,
   "id": "b2679ac3",
   "metadata": {},
   "outputs": [
    {
     "data": {
      "text/plain": [
       "array(['Dec-11', 'Nov-11', 'Oct-11', 'Sep-11', 'Aug-11', 'Jul-11',\n",
       "       'Jun-11', 'May-11', 'Apr-11', 'Mar-11', 'Feb-11', 'Jan-11',\n",
       "       'Dec-10', 'Nov-10', 'Oct-10', 'Sep-10', 'Aug-10', 'Jul-10',\n",
       "       'Jun-10', 'May-10', 'Apr-10', 'Mar-10', 'Feb-10', 'Jan-10',\n",
       "       'Dec-09', 'Nov-09', 'Oct-09', 'Sep-09', 'Aug-09', 'Jul-09',\n",
       "       'Jun-09', 'May-09', 'Apr-09', 'Mar-09', 'Feb-09', 'Jan-09',\n",
       "       'Dec-08', 'Nov-08', 'Oct-08', 'Sep-08', 'Aug-08', 'Jul-08',\n",
       "       'Jun-08', 'May-08', 'Apr-08', 'Mar-08', 'Feb-08', 'Jan-08',\n",
       "       'Dec-07', 'Nov-07', 'Oct-07', 'Sep-07', 'Aug-07', 'Jul-07',\n",
       "       'Jun-07', 'Dec-13', 'Nov-13', 'Oct-13', 'Sep-13', 'Aug-13',\n",
       "       'Jul-13', 'Jun-13', 'May-13', 'Apr-13', 'Mar-13', 'Feb-13',\n",
       "       'Jan-13', 'Dec-12', 'Nov-12', 'Oct-12', 'Sep-12', 'Aug-12',\n",
       "       'Jul-12', 'Jun-12', 'May-12', 'Apr-12', 'Mar-12', 'Feb-12',\n",
       "       'Jan-12', 'Dec-14', 'Nov-14', 'Oct-14', 'Sep-14', 'Aug-14',\n",
       "       'Jul-14', 'Jun-14', 'May-14', 'Apr-14', 'Mar-14', 'Feb-14',\n",
       "       'Jan-14'], dtype=object)"
      ]
     },
     "execution_count": 34,
     "metadata": {},
     "output_type": "execute_result"
    }
   ],
   "source": [
    "df['issue_d'].unique()"
   ]
  },
  {
   "cell_type": "code",
   "execution_count": 35,
   "id": "0ba94ab9",
   "metadata": {},
   "outputs": [],
   "source": [
    "df['issue_d_date'] = pd.to_datetime(df['issue_d'], format='%b-%y')\n",
    "df['mths_since_issue_d'] = round(pd.to_numeric((pd.to_datetime('2017-12-01') - df['issue_d_date']) / np.timedelta64(1, 'M')))"
   ]
  },
  {
   "cell_type": "code",
   "execution_count": 36,
   "id": "5071cc1f",
   "metadata": {},
   "outputs": [
    {
     "data": {
      "text/plain": [
       "count    466285.000000\n",
       "mean         51.255187\n",
       "std          14.340154\n",
       "min          36.000000\n",
       "25%          41.000000\n",
       "50%          47.000000\n",
       "75%          57.000000\n",
       "max         126.000000\n",
       "Name: mths_since_issue_d, dtype: float64"
      ]
     },
     "execution_count": 36,
     "metadata": {},
     "output_type": "execute_result"
    }
   ],
   "source": [
    "df['mths_since_issue_d'].describe()"
   ]
  },
  {
   "cell_type": "code",
   "execution_count": 37,
   "id": "87385025",
   "metadata": {},
   "outputs": [],
   "source": [
    "df.drop(['issue_d','issue_d_date'],axis=1,inplace=True)"
   ]
  },
  {
   "cell_type": "markdown",
   "id": "a1afae95",
   "metadata": {},
   "source": [
    "### last_pymnt_d"
   ]
  },
  {
   "cell_type": "code",
   "execution_count": 38,
   "id": "4fae4df4",
   "metadata": {},
   "outputs": [],
   "source": [
    "df['last_pymnt_d_date']=pd.to_datetime(df['last_pymnt_d'],format='%b-%y')\n",
    "df['math_since_last_pymnt_d']=round(pd.to_numeric((pd.to_datetime('2017-12-01')-df['last_pymnt_d_date'])/np.timedelta64(1,'M')))\n"
   ]
  },
  {
   "cell_type": "code",
   "execution_count": 39,
   "id": "1772c761",
   "metadata": {},
   "outputs": [
    {
     "data": {
      "text/plain": [
       "count    465909.000000\n",
       "mean         31.294369\n",
       "std          12.809898\n",
       "min          23.000000\n",
       "25%          23.000000\n",
       "50%          24.000000\n",
       "75%          35.000000\n",
       "max         120.000000\n",
       "Name: math_since_last_pymnt_d, dtype: float64"
      ]
     },
     "execution_count": 39,
     "metadata": {},
     "output_type": "execute_result"
    }
   ],
   "source": [
    "df['math_since_last_pymnt_d'].describe()"
   ]
  },
  {
   "cell_type": "code",
   "execution_count": 40,
   "id": "ca92efea",
   "metadata": {},
   "outputs": [],
   "source": [
    "df.drop(['last_pymnt_d','last_pymnt_d_date'],axis=1, inplace=True)"
   ]
  },
  {
   "cell_type": "markdown",
   "id": "6079237e",
   "metadata": {},
   "source": [
    "### next_pymnt_d"
   ]
  },
  {
   "cell_type": "code",
   "execution_count": 41,
   "id": "49f67c88",
   "metadata": {},
   "outputs": [],
   "source": [
    "df['next_pymnt_d_date'] = pd.to_datetime(df['next_pymnt_d'], format='%b-%y')\n",
    "df['mths_since_next_pymnt_d'] = round(pd.to_numeric((pd.to_datetime('2017-12-01') - df['next_pymnt_d_date']) / np.timedelta64(1, 'M')))"
   ]
  },
  {
   "cell_type": "code",
   "execution_count": 42,
   "id": "29fdbaf4",
   "metadata": {},
   "outputs": [
    {
     "data": {
      "text/plain": [
       "count    239071.000000\n",
       "mean         22.738136\n",
       "std           6.082298\n",
       "min          21.000000\n",
       "25%          22.000000\n",
       "50%          22.000000\n",
       "75%          22.000000\n",
       "max         120.000000\n",
       "Name: mths_since_next_pymnt_d, dtype: float64"
      ]
     },
     "execution_count": 42,
     "metadata": {},
     "output_type": "execute_result"
    }
   ],
   "source": [
    "df['mths_since_next_pymnt_d'].describe()"
   ]
  },
  {
   "cell_type": "code",
   "execution_count": 43,
   "id": "2b95c0d0",
   "metadata": {},
   "outputs": [],
   "source": [
    "df.drop(['next_pymnt_d','next_pymnt_d_date'],axis=1,inplace=True)"
   ]
  },
  {
   "cell_type": "markdown",
   "id": "f5ee9341",
   "metadata": {},
   "source": [
    "### last_credit_pull_d"
   ]
  },
  {
   "cell_type": "code",
   "execution_count": 44,
   "id": "f8c9f593",
   "metadata": {},
   "outputs": [
    {
     "data": {
      "text/plain": [
       "array(['Jan-16', 'Sep-13', 'Jan-15', 'Sep-15', 'Dec-14', 'Aug-12',\n",
       "       'Mar-13', 'Dec-15', 'Aug-13', 'Nov-12', 'Mar-14', 'Apr-15',\n",
       "       'May-14', 'Jul-15', 'Jul-12', 'Sep-12', 'May-13', 'Oct-15',\n",
       "       'Jun-12', 'Mar-15', 'Dec-12', 'Jul-14', 'Sep-14', 'Feb-14',\n",
       "       'Jun-15', 'Oct-13', 'Apr-14', 'Oct-14', 'Feb-13', 'Nov-15',\n",
       "       'Oct-12', 'Nov-13', 'Nov-14', 'Feb-12', 'Apr-12', 'Aug-15',\n",
       "       'Jun-14', 'Jan-12', 'Aug-14', 'Jun-13', 'Dec-13', 'May-12',\n",
       "       'Jan-14', 'Jul-13', 'Apr-13', 'May-15', 'Feb-15', 'Mar-12',\n",
       "       'Nov-11', 'Dec-11', 'Jan-13', 'Oct-11', 'Sep-11', 'Aug-11',\n",
       "       'Jul-11', 'Jun-11', 'May-11', 'Apr-11', 'Mar-11', 'Feb-11',\n",
       "       'Jan-11', 'Dec-10', 'Nov-10', 'Oct-10', nan, 'Sep-10', 'Aug-10',\n",
       "       'Jul-10', 'Jun-10', 'May-10', 'Apr-10', 'Feb-10', 'Mar-10',\n",
       "       'Aug-07', 'Jan-10', 'Dec-09', 'Nov-09', 'Oct-09', 'Sep-09',\n",
       "       'Jul-09', 'Aug-09', 'Jun-09', 'May-09', 'Apr-09', 'Mar-09',\n",
       "       'Feb-09', 'Jan-09', 'Dec-08', 'Jun-08', 'Sep-08', 'May-08',\n",
       "       'Aug-08', 'Mar-08', 'Oct-08', 'Feb-08', 'Jan-08', 'Dec-07',\n",
       "       'Jul-08', 'Oct-07', 'Sep-07', 'Jun-07', 'May-07', 'Jul-07',\n",
       "       'Nov-07'], dtype=object)"
      ]
     },
     "execution_count": 44,
     "metadata": {},
     "output_type": "execute_result"
    }
   ],
   "source": [
    "df['last_credit_pull_d'].unique()"
   ]
  },
  {
   "cell_type": "code",
   "execution_count": 45,
   "id": "2a3ac025",
   "metadata": {},
   "outputs": [],
   "source": [
    "df['last_credit_pull_d_date'] = pd.to_datetime(df['last_credit_pull_d'],format='%b-%y')\n",
    "df['mths_since_last_credit_pull_d']=round(pd.to_numeric((pd.to_datetime('2017-12-01')-df['last_credit_pull_d_date'])/np.timedelta64(1,'M')))"
   ]
  },
  {
   "cell_type": "code",
   "execution_count": 46,
   "id": "a0c03941",
   "metadata": {},
   "outputs": [
    {
     "data": {
      "text/plain": [
       "count    466243.000000\n",
       "mean         27.045588\n",
       "std           9.636423\n",
       "min          23.000000\n",
       "25%          23.000000\n",
       "50%          23.000000\n",
       "75%          25.000000\n",
       "max         127.000000\n",
       "Name: mths_since_last_credit_pull_d, dtype: float64"
      ]
     },
     "execution_count": 46,
     "metadata": {},
     "output_type": "execute_result"
    }
   ],
   "source": [
    "df['mths_since_last_credit_pull_d'].describe()"
   ]
  },
  {
   "cell_type": "code",
   "execution_count": 47,
   "id": "15f7194c",
   "metadata": {},
   "outputs": [],
   "source": [
    "df.drop(['last_credit_pull_d_date','last_credit_pull_d'],axis=1,inplace=True)"
   ]
  },
  {
   "cell_type": "markdown",
   "id": "fd434023",
   "metadata": {},
   "source": [
    "## EXPLORATORY DATA ANALYSIS"
   ]
  },
  {
   "cell_type": "markdown",
   "id": "c700ec69",
   "metadata": {},
   "source": [
    "### Visualization of Data"
   ]
  },
  {
   "cell_type": "code",
   "execution_count": 48,
   "id": "0770ee78",
   "metadata": {},
   "outputs": [
    {
     "data": {
      "image/png": "[encoded data removed]",
      "text/plain": [
       "<Figure size 1080x576 with 1 Axes>"
      ]
     },
     "metadata": {
      "needs_background": "light"
     },
     "output_type": "display_data"
    }
   ],
   "source": [
    "# visualization of a target label\n",
    "plt.figure(figsize=(15, 8))\n",
    "sns.countplot(data=df, x='bad_flag')\n",
    "plt.ylabel('count')\n",
    "plt.xlabel('Bad Loan=(1) & Good Loan=(0)')\n",
    "plt.title(\"Bad Loan vs Good Loan\")\n",
    "plt.show()"
   ]
  },
  {
   "cell_type": "code",
   "execution_count": 49,
   "id": "8d09986f",
   "metadata": {},
   "outputs": [
    {
     "data": {
      "image/png": "[encoded data removed]",
      "text/plain": [
       "<Figure size 1080x576 with 1 Axes>"
      ]
     },
     "metadata": {
      "needs_background": "light"
     },
     "output_type": "display_data"
    }
   ],
   "source": [
    "# visualization of a target label\n",
    "plt.figure(figsize=(15, 8))\n",
    "sns.countplot(data=df, x='bad_flag',hue='grade',hue_order=df['grade'].value_counts().index.values)\n",
    "plt.ylabel('count')\n",
    "plt.xlabel('Bad Loan=(1) & Good Loan=(0)')\n",
    "plt.title(\"Bad Flag vs Grade\")\n",
    "plt.show()"
   ]
  },
  {
   "cell_type": "code",
   "execution_count": 50,
   "id": "5faa126a",
   "metadata": {},
   "outputs": [
    {
     "data": {
      "text/plain": [
       "Text(0.5, 0, 'Bad Loan=(1) & Good Loan=(0)')"
      ]
     },
     "execution_count": 50,
     "metadata": {},
     "output_type": "execute_result"
    },
    {
     "data": {
      "image/png": "[encoded data removed]",
      "text/plain": [
       "<Figure size 1080x576 with 1 Axes>"
      ]
     },
     "metadata": {
      "needs_background": "light"
     },
     "output_type": "display_data"
    }
   ],
   "source": [
    "# visualization of a target label\n",
    "plt.figure(figsize=(15,8))\n",
    "sns.countplot(data=df, x='bad_flag',hue='verification_status',hue_order=df['verification_status'].value_counts().index.values)\n",
    "plt.title('Bad Flag vs Verification Status')\n",
    "plt.ylabel('count')\n",
    "plt.xlabel('Bad Loan=(1) & Good Loan=(0)')"
   ]
  },
  {
   "cell_type": "code",
   "execution_count": 51,
   "id": "8f0ce3b7",
   "metadata": {},
   "outputs": [
    {
     "data": {
      "text/plain": [
       "Text(0.5, 1.0, 'Bad Flag vs Purpose')"
      ]
     },
     "execution_count": 51,
     "metadata": {},
     "output_type": "execute_result"
    },
    {
     "data": {
      "image/png": "[encoded data removed]",
      "text/plain": [
       "<Figure size 1080x576 with 1 Axes>"
      ]
     },
     "metadata": {
      "needs_background": "light"
     },
     "output_type": "display_data"
    }
   ],
   "source": [
    "# visualization of a target label\n",
    "plt.figure(figsize=(15,8))\n",
    "sns.countplot(data=df,x='bad_flag', hue='purpose',hue_order=df['purpose'].value_counts().index.values)\n",
    "plt.ylabel('count')\n",
    "plt.xlabel('Bad Loan=(1) & Good Loan=(0)')\n",
    "plt.title('Bad Flag vs Purpose')"
   ]
  },
  {
   "cell_type": "code",
   "execution_count": 52,
   "id": "cec064c0",
   "metadata": {},
   "outputs": [
    {
     "data": {
      "text/plain": [
       "Text(0.5, 1.0, 'Bad Flag vs home_ownership')"
      ]
     },
     "execution_count": 52,
     "metadata": {},
     "output_type": "execute_result"
    },
    {
     "data": {
      "image/png": "[encoded data removed]",
      "text/plain": [
       "<Figure size 1080x576 with 1 Axes>"
      ]
     },
     "metadata": {
      "needs_background": "light"
     },
     "output_type": "display_data"
    }
   ],
   "source": [
    "# visualization of a target label\n",
    "plt.figure(figsize=(15,8))\n",
    "sns.countplot(data=df,x='bad_flag', hue='home_ownership',hue_order=df['home_ownership'].value_counts().index.values)\n",
    "plt.ylabel('count')\n",
    "plt.xlabel('Bad Loan=(1) & Good Loan=(0)')\n",
    "plt.title('Bad Flag vs home_ownership')"
   ]
  },
  {
   "cell_type": "markdown",
   "id": "ae493fc6",
   "metadata": {},
   "source": [
    "### Correlation Check"
   ]
  },
  {
   "cell_type": "code",
   "execution_count": 53,
   "id": "e840dadd",
   "metadata": {},
   "outputs": [
    {
     "data": {
      "text/plain": [
       "<AxesSubplot:>"
      ]
     },
     "execution_count": 53,
     "metadata": {},
     "output_type": "execute_result"
    },
    {
     "data": {
      "image/png": "[encoded data removed]",
      "text/plain": [
       "<Figure size 1440x1440 with 2 Axes>"
      ]
     },
     "metadata": {
      "needs_background": "light"
     },
     "output_type": "display_data"
    }
   ],
   "source": [
    "plt.figure(figsize=(20,20))\n",
    "sns.heatmap(df.corr())"
   ]
  },
  {
   "cell_type": "markdown",
   "id": "5b6604d4",
   "metadata": {},
   "source": [
    "Correlation data is commonly used the number 0.7"
   ]
  },
  {
   "cell_type": "code",
   "execution_count": 54,
   "id": "240bbc88",
   "metadata": {},
   "outputs": [
    {
     "name": "stderr",
     "output_type": "stream",
     "text": [
      "C:\\Users\\AASH\\AppData\\Local\\Temp/ipykernel_7264/3463352397.py:2: DeprecationWarning: `np.bool` is a deprecated alias for the builtin `bool`. To silence this warning, use `bool` by itself. Doing this will not modify any behavior and is safe. If you specifically wanted the numpy scalar type, use `np.bool_` here.\n",
      "Deprecated in NumPy 1.20; for more details and guidance: https://numpy.org/devdocs/release/1.20.0-notes.html#deprecations\n",
      "  upper = corr_matrix.where(np.triu(np.ones(corr_matrix.shape),k=1).astype(np.bool))\n"
     ]
    }
   ],
   "source": [
    "corr_matrix = df.corr().abs()\n",
    "upper = corr_matrix.where(np.triu(np.ones(corr_matrix.shape),k=1).astype(np.bool))\n",
    "to_drop_hicorr = [column for column in upper.columns if any(upper[column]>0.7)]\n"
   ]
  },
  {
   "cell_type": "code",
   "execution_count": 55,
   "id": "63208784",
   "metadata": {},
   "outputs": [
    {
     "data": {
      "text/plain": [
       "['funded_amnt',\n",
       " 'funded_amnt_inv',\n",
       " 'installment',\n",
       " 'out_prncp_inv',\n",
       " 'total_pymnt',\n",
       " 'total_pymnt_inv',\n",
       " 'total_rec_prncp',\n",
       " 'total_rec_int',\n",
       " 'collection_recovery_fee',\n",
       " 'last_pymnt_amnt',\n",
       " 'mths_since_last_major_derog',\n",
       " 'total_rev_hi_lim',\n",
       " 'math_since_last_pymnt_d',\n",
       " 'mths_since_next_pymnt_d',\n",
       " 'mths_since_last_credit_pull_d']"
      ]
     },
     "execution_count": 55,
     "metadata": {},
     "output_type": "execute_result"
    }
   ],
   "source": [
    "to_drop_hicorr"
   ]
  },
  {
   "cell_type": "code",
   "execution_count": 56,
   "id": "7f801a44",
   "metadata": {},
   "outputs": [],
   "source": [
    "df.drop(to_drop_hicorr,axis=1,inplace=True)"
   ]
  },
  {
   "cell_type": "markdown",
   "id": "9ecfc47d",
   "metadata": {},
   "source": [
    "### Check Categorical Features"
   ]
  },
  {
   "cell_type": "code",
   "execution_count": 57,
   "id": "b1378f6a",
   "metadata": {},
   "outputs": [
    {
     "data": {
      "text/plain": [
       "grade                       7\n",
       "emp_title              205475\n",
       "home_ownership              6\n",
       "verification_status         3\n",
       "pymnt_plan                  2\n",
       "purpose                    14\n",
       "title                   63099\n",
       "addr_state                 50\n",
       "initial_list_status         2\n",
       "application_type            1\n",
       "dtype: int64"
      ]
     },
     "execution_count": 57,
     "metadata": {},
     "output_type": "execute_result"
    }
   ],
   "source": [
    "df.select_dtypes(include='object').nunique()"
   ]
  },
  {
   "cell_type": "markdown",
   "id": "ffe19a0c",
   "metadata": {},
   "source": [
    "Disposal of features that have a very high unique value (high cardinality) and features that have only one unique value."
   ]
  },
  {
   "cell_type": "code",
   "execution_count": 58,
   "id": "d644dafb",
   "metadata": {},
   "outputs": [],
   "source": [
    "df.drop(['emp_title','title','application_type'],axis=1,inplace=True)"
   ]
  },
  {
   "cell_type": "code",
   "execution_count": 59,
   "id": "b9a6036f",
   "metadata": {},
   "outputs": [
    {
     "data": {
      "text/plain": [
       "loan_amnt                        1352\n",
       "int_rate                          506\n",
       "annual_inc                      31901\n",
       "dti                              3997\n",
       "delinq_2yrs                        24\n",
       "inq_last_6mths                     28\n",
       "mths_since_last_delinq            145\n",
       "mths_since_last_record            123\n",
       "open_acc                           62\n",
       "pub_rec                            26\n",
       "revol_bal                       58142\n",
       "revol_util                       1269\n",
       "total_acc                         112\n",
       "out_prncp                      135665\n",
       "total_rec_late_fee               5808\n",
       "recoveries                      22773\n",
       "collections_12_mths_ex_med          9\n",
       "policy_code                         1\n",
       "acc_now_delinq                      6\n",
       "tot_coll_amt                     6321\n",
       "tot_cur_bal                    220690\n",
       "bad_flag                            2\n",
       "emp_length_int                     11\n",
       "term_int                            2\n",
       "mths_since_earliest_cr_line       515\n",
       "mths_since_issue_d                 91\n",
       "dtype: int64"
      ]
     },
     "execution_count": 59,
     "metadata": {},
     "output_type": "execute_result"
    }
   ],
   "source": [
    "df.select_dtypes(exclude='object').nunique()"
   ]
  },
  {
   "cell_type": "markdown",
   "id": "4adb8246",
   "metadata": {},
   "source": [
    "Disposal of features that have only one unique value."
   ]
  },
  {
   "cell_type": "code",
   "execution_count": 60,
   "id": "03994c8e",
   "metadata": {},
   "outputs": [],
   "source": [
    "df.drop(['policy_code'],axis=1,inplace=True)"
   ]
  },
  {
   "cell_type": "code",
   "execution_count": 61,
   "id": "7c0a7d5b",
   "metadata": {
    "scrolled": true
   },
   "outputs": [
    {
     "name": "stdout",
     "output_type": "stream",
     "text": [
      "B    29.365946\n",
      "C    26.870476\n",
      "D    16.489486\n",
      "A    16.056060\n",
      "E     7.668486\n",
      "F     2.837106\n",
      "G     0.712440\n",
      "Name: grade, dtype: float64\n",
      "\n",
      "\n",
      "MORTGAGE    50.586015\n",
      "RENT        40.420129\n",
      "OWN          8.943886\n",
      "OTHER        0.039032\n",
      "NONE         0.010723\n",
      "ANY          0.000214\n",
      "Name: home_ownership, dtype: float64\n",
      "\n",
      "\n",
      "Verified           36.041262\n",
      "Source Verified    32.167666\n",
      "Not Verified       31.791072\n",
      "Name: verification_status, dtype: float64\n",
      "\n",
      "\n",
      "n    99.99807\n",
      "y     0.00193\n",
      "Name: pymnt_plan, dtype: float64\n",
      "\n",
      "\n",
      "debt_consolidation    58.804165\n",
      "credit_card           22.337626\n",
      "home_improvement       5.691155\n",
      "other                  5.080584\n",
      "major_purchase         2.107724\n",
      "small_business         1.504016\n",
      "car                    1.157447\n",
      "medical                0.986950\n",
      "moving                 0.642097\n",
      "vacation               0.533365\n",
      "wedding                0.502482\n",
      "house                  0.486612\n",
      "educational            0.090503\n",
      "renewable_energy       0.075276\n",
      "Name: purpose, dtype: float64\n",
      "\n",
      "\n",
      "CA    15.323247\n",
      "NY     8.630344\n",
      "TX     7.814748\n",
      "FL     6.784906\n",
      "IL     3.991550\n",
      "NJ     3.873382\n",
      "PA     3.522309\n",
      "OH     3.267744\n",
      "GA     3.211555\n",
      "VA     3.050066\n",
      "NC     2.719796\n",
      "MI     2.476811\n",
      "MA     2.374513\n",
      "MD     2.353496\n",
      "AZ     2.297307\n",
      "WA     2.255488\n",
      "CO     2.088637\n",
      "MN     1.749574\n",
      "MO     1.610174\n",
      "CT     1.544978\n",
      "IN     1.399359\n",
      "NV     1.398072\n",
      "TN     1.283335\n",
      "OR     1.275829\n",
      "WI     1.267680\n",
      "AL     1.255241\n",
      "SC     1.197336\n",
      "LA     1.177177\n",
      "KY     0.951778\n",
      "KS     0.898592\n",
      "OK     0.882936\n",
      "AR     0.748040\n",
      "UT     0.735173\n",
      "NM     0.555025\n",
      "HI     0.533365\n",
      "WV     0.517280\n",
      "NH     0.478677\n",
      "RI     0.439645\n",
      "DC     0.305822\n",
      "MT     0.299388\n",
      "DE     0.272795\n",
      "AK     0.268291\n",
      "MS     0.262929\n",
      "WY     0.241912\n",
      "SD     0.210172\n",
      "VT     0.194087\n",
      "IA     0.003002\n",
      "NE     0.003002\n",
      "ID     0.002574\n",
      "ME     0.000858\n",
      "Name: addr_state, dtype: float64\n",
      "\n",
      "\n",
      "f    64.982789\n",
      "w    35.017211\n",
      "Name: initial_list_status, dtype: float64\n",
      "\n",
      "\n"
     ]
    }
   ],
   "source": [
    "for col in df.select_dtypes(include='object').columns.tolist():\n",
    "    print(df[col].value_counts(normalize=True)*100)\n",
    "    print('\\n')    "
   ]
  },
  {
   "cell_type": "markdown",
   "id": "64d3efcd",
   "metadata": {},
   "source": [
    "Remove a column with a higher value is column \"pymnt_plan\""
   ]
  },
  {
   "cell_type": "code",
   "execution_count": 62,
   "id": "1b3c1768",
   "metadata": {},
   "outputs": [],
   "source": [
    "df.drop('pymnt_plan',axis=1,inplace=True)"
   ]
  },
  {
   "cell_type": "markdown",
   "id": "477e27d0",
   "metadata": {},
   "source": [
    "### Missing Values"
   ]
  },
  {
   "cell_type": "markdown",
   "id": "c1147549",
   "metadata": {},
   "source": [
    "#### Missing Value Checking"
   ]
  },
  {
   "cell_type": "code",
   "execution_count": 63,
   "id": "8ff8dfce",
   "metadata": {},
   "outputs": [
    {
     "data": {
      "text/plain": [
       "mths_since_last_record         86.566585\n",
       "mths_since_last_delinq         53.690554\n",
       "tot_coll_amt                   15.071469\n",
       "tot_cur_bal                    15.071469\n",
       "emp_length_int                  4.505399\n",
       "revol_util                      0.072917\n",
       "collections_12_mths_ex_med      0.031097\n",
       "delinq_2yrs                     0.006219\n",
       "inq_last_6mths                  0.006219\n",
       "open_acc                        0.006219\n",
       "pub_rec                         0.006219\n",
       "total_acc                       0.006219\n",
       "acc_now_delinq                  0.006219\n",
       "mths_since_earliest_cr_line     0.006219\n",
       "annual_inc                      0.000858\n",
       "dtype: float64"
      ]
     },
     "execution_count": 63,
     "metadata": {},
     "output_type": "execute_result"
    }
   ],
   "source": [
    "check_missing = df.isnull().sum()*100/df.shape[0]\n",
    "check_missing[check_missing >0].sort_values(ascending=False)"
   ]
  },
  {
   "cell_type": "markdown",
   "id": "4cc85a38",
   "metadata": {},
   "source": [
    "Remove missing values above 75% "
   ]
  },
  {
   "cell_type": "code",
   "execution_count": 64,
   "id": "046e2ee4",
   "metadata": {},
   "outputs": [],
   "source": [
    "df.drop('mths_since_last_record',axis=1,inplace=True)"
   ]
  },
  {
   "cell_type": "code",
   "execution_count": 65,
   "id": "0861f3fd",
   "metadata": {},
   "outputs": [],
   "source": [
    "df['annual_inc'].fillna(df['annual_inc'].mean(), inplace=True)\n",
    "df['mths_since_earliest_cr_line'].fillna(0, inplace=True)\n",
    "df['acc_now_delinq'].fillna(0, inplace=True)\n",
    "df['total_acc'].fillna(0, inplace=True)\n",
    "df['pub_rec'].fillna(0, inplace=True)\n",
    "df['open_acc'].fillna(0, inplace=True)\n",
    "df['inq_last_6mths'].fillna(0, inplace=True)\n",
    "df['delinq_2yrs'].fillna(0, inplace=True)\n",
    "df['collections_12_mths_ex_med'].fillna(0, inplace=True)\n",
    "df['revol_util'].fillna(0, inplace=True)\n",
    "df['emp_length_int'].fillna(0, inplace=True)\n",
    "df['tot_cur_bal'].fillna(0, inplace=True)\n",
    "df['tot_coll_amt'].fillna(0, inplace=True)\n",
    "df['mths_since_last_delinq'].fillna(-1, inplace=True)"
   ]
  },
  {
   "cell_type": "markdown",
   "id": "27df775f",
   "metadata": {},
   "source": [
    "### FEATURE SCALING AND TRANSFORMATION"
   ]
  },
  {
   "cell_type": "markdown",
   "id": "90b4872b",
   "metadata": {},
   "source": [
    "#### One Hot Encoding"
   ]
  },
  {
   "cell_type": "markdown",
   "id": "0399c514",
   "metadata": {},
   "source": [
    "One-hot encoding is a technique used to represent category variables as numerical data, which is required for many machine learning algorithms. In one-hot encoding, each category is converted to a binary vector where each element represents a unique category. "
   ]
  },
  {
   "cell_type": "code",
   "execution_count": 66,
   "id": "a6779427",
   "metadata": {},
   "outputs": [],
   "source": [
    "categorical_cols = [col for col in df.select_dtypes (include='object').columns.tolist()]"
   ]
  },
  {
   "cell_type": "code",
   "execution_count": 67,
   "id": "529cb1fa",
   "metadata": {},
   "outputs": [],
   "source": [
    "onehot = pd.get_dummies(df[categorical_cols],drop_first=True)"
   ]
  },
  {
   "cell_type": "code",
   "execution_count": 68,
   "id": "87f004d2",
   "metadata": {},
   "outputs": [
    {
     "data": {
      "text/html": [
       "<div>\n",
       "<style scoped>\n",
       "    .dataframe tbody tr th:only-of-type {\n",
       "        vertical-align: middle;\n",
       "    }\n",
       "\n",
       "    .dataframe tbody tr th {\n",
       "        vertical-align: top;\n",
       "    }\n",
       "\n",
       "    .dataframe thead th {\n",
       "        text-align: right;\n",
       "    }\n",
       "</style>\n",
       "<table border=\"1\" class=\"dataframe\">\n",
       "  <thead>\n",
       "    <tr style=\"text-align: right;\">\n",
       "      <th></th>\n",
       "      <th>grade_B</th>\n",
       "      <th>grade_C</th>\n",
       "      <th>grade_D</th>\n",
       "      <th>grade_E</th>\n",
       "      <th>grade_F</th>\n",
       "      <th>grade_G</th>\n",
       "      <th>home_ownership_MORTGAGE</th>\n",
       "      <th>home_ownership_NONE</th>\n",
       "      <th>home_ownership_OTHER</th>\n",
       "      <th>home_ownership_OWN</th>\n",
       "      <th>...</th>\n",
       "      <th>addr_state_TN</th>\n",
       "      <th>addr_state_TX</th>\n",
       "      <th>addr_state_UT</th>\n",
       "      <th>addr_state_VA</th>\n",
       "      <th>addr_state_VT</th>\n",
       "      <th>addr_state_WA</th>\n",
       "      <th>addr_state_WI</th>\n",
       "      <th>addr_state_WV</th>\n",
       "      <th>addr_state_WY</th>\n",
       "      <th>initial_list_status_w</th>\n",
       "    </tr>\n",
       "  </thead>\n",
       "  <tbody>\n",
       "    <tr>\n",
       "      <th>0</th>\n",
       "      <td>1</td>\n",
       "      <td>0</td>\n",
       "      <td>0</td>\n",
       "      <td>0</td>\n",
       "      <td>0</td>\n",
       "      <td>0</td>\n",
       "      <td>0</td>\n",
       "      <td>0</td>\n",
       "      <td>0</td>\n",
       "      <td>0</td>\n",
       "      <td>...</td>\n",
       "      <td>0</td>\n",
       "      <td>0</td>\n",
       "      <td>0</td>\n",
       "      <td>0</td>\n",
       "      <td>0</td>\n",
       "      <td>0</td>\n",
       "      <td>0</td>\n",
       "      <td>0</td>\n",
       "      <td>0</td>\n",
       "      <td>0</td>\n",
       "    </tr>\n",
       "    <tr>\n",
       "      <th>1</th>\n",
       "      <td>0</td>\n",
       "      <td>1</td>\n",
       "      <td>0</td>\n",
       "      <td>0</td>\n",
       "      <td>0</td>\n",
       "      <td>0</td>\n",
       "      <td>0</td>\n",
       "      <td>0</td>\n",
       "      <td>0</td>\n",
       "      <td>0</td>\n",
       "      <td>...</td>\n",
       "      <td>0</td>\n",
       "      <td>0</td>\n",
       "      <td>0</td>\n",
       "      <td>0</td>\n",
       "      <td>0</td>\n",
       "      <td>0</td>\n",
       "      <td>0</td>\n",
       "      <td>0</td>\n",
       "      <td>0</td>\n",
       "      <td>0</td>\n",
       "    </tr>\n",
       "    <tr>\n",
       "      <th>2</th>\n",
       "      <td>0</td>\n",
       "      <td>1</td>\n",
       "      <td>0</td>\n",
       "      <td>0</td>\n",
       "      <td>0</td>\n",
       "      <td>0</td>\n",
       "      <td>0</td>\n",
       "      <td>0</td>\n",
       "      <td>0</td>\n",
       "      <td>0</td>\n",
       "      <td>...</td>\n",
       "      <td>0</td>\n",
       "      <td>0</td>\n",
       "      <td>0</td>\n",
       "      <td>0</td>\n",
       "      <td>0</td>\n",
       "      <td>0</td>\n",
       "      <td>0</td>\n",
       "      <td>0</td>\n",
       "      <td>0</td>\n",
       "      <td>0</td>\n",
       "    </tr>\n",
       "    <tr>\n",
       "      <th>3</th>\n",
       "      <td>0</td>\n",
       "      <td>1</td>\n",
       "      <td>0</td>\n",
       "      <td>0</td>\n",
       "      <td>0</td>\n",
       "      <td>0</td>\n",
       "      <td>0</td>\n",
       "      <td>0</td>\n",
       "      <td>0</td>\n",
       "      <td>0</td>\n",
       "      <td>...</td>\n",
       "      <td>0</td>\n",
       "      <td>0</td>\n",
       "      <td>0</td>\n",
       "      <td>0</td>\n",
       "      <td>0</td>\n",
       "      <td>0</td>\n",
       "      <td>0</td>\n",
       "      <td>0</td>\n",
       "      <td>0</td>\n",
       "      <td>0</td>\n",
       "    </tr>\n",
       "    <tr>\n",
       "      <th>4</th>\n",
       "      <td>1</td>\n",
       "      <td>0</td>\n",
       "      <td>0</td>\n",
       "      <td>0</td>\n",
       "      <td>0</td>\n",
       "      <td>0</td>\n",
       "      <td>0</td>\n",
       "      <td>0</td>\n",
       "      <td>0</td>\n",
       "      <td>0</td>\n",
       "      <td>...</td>\n",
       "      <td>0</td>\n",
       "      <td>0</td>\n",
       "      <td>0</td>\n",
       "      <td>0</td>\n",
       "      <td>0</td>\n",
       "      <td>0</td>\n",
       "      <td>0</td>\n",
       "      <td>0</td>\n",
       "      <td>0</td>\n",
       "      <td>0</td>\n",
       "    </tr>\n",
       "  </tbody>\n",
       "</table>\n",
       "<p>5 rows × 76 columns</p>\n",
       "</div>"
      ],
      "text/plain": [
       "   grade_B  grade_C  grade_D  grade_E  grade_F  grade_G  \\\n",
       "0        1        0        0        0        0        0   \n",
       "1        0        1        0        0        0        0   \n",
       "2        0        1        0        0        0        0   \n",
       "3        0        1        0        0        0        0   \n",
       "4        1        0        0        0        0        0   \n",
       "\n",
       "   home_ownership_MORTGAGE  home_ownership_NONE  home_ownership_OTHER  \\\n",
       "0                        0                    0                     0   \n",
       "1                        0                    0                     0   \n",
       "2                        0                    0                     0   \n",
       "3                        0                    0                     0   \n",
       "4                        0                    0                     0   \n",
       "\n",
       "   home_ownership_OWN  ...  addr_state_TN  addr_state_TX  addr_state_UT  \\\n",
       "0                   0  ...              0              0              0   \n",
       "1                   0  ...              0              0              0   \n",
       "2                   0  ...              0              0              0   \n",
       "3                   0  ...              0              0              0   \n",
       "4                   0  ...              0              0              0   \n",
       "\n",
       "   addr_state_VA  addr_state_VT  addr_state_WA  addr_state_WI  addr_state_WV  \\\n",
       "0              0              0              0              0              0   \n",
       "1              0              0              0              0              0   \n",
       "2              0              0              0              0              0   \n",
       "3              0              0              0              0              0   \n",
       "4              0              0              0              0              0   \n",
       "\n",
       "   addr_state_WY  initial_list_status_w  \n",
       "0              0                      0  \n",
       "1              0                      0  \n",
       "2              0                      0  \n",
       "3              0                      0  \n",
       "4              0                      0  \n",
       "\n",
       "[5 rows x 76 columns]"
      ]
     },
     "execution_count": 68,
     "metadata": {},
     "output_type": "execute_result"
    }
   ],
   "source": [
    "onehot.head()"
   ]
  },
  {
   "cell_type": "markdown",
   "id": "651fbb76",
   "metadata": {},
   "source": [
    "#### Standardization"
   ]
  },
  {
   "cell_type": "markdown",
   "id": "286f5dc4",
   "metadata": {},
   "source": [
    "Process of converting variables in a dataset into the same form, so as to facilitate data analysis and processing\n",
    "In data science, standardization can be done using two methods, namely:\n",
    "* Standard Scaler: Transforms the data to have an average of 0 and a standard deviation of 1.\n",
    "* Min-Max Scaler: Transforms data to have a range between 0 and 1."
   ]
  },
  {
   "cell_type": "markdown",
   "id": "86bf9d72",
   "metadata": {},
   "source": [
    "All numerical columns are standardized using StandardScaler"
   ]
  },
  {
   "cell_type": "code",
   "execution_count": 69,
   "id": "07284acd",
   "metadata": {},
   "outputs": [],
   "source": [
    "numerical_cols = [col for col in df.columns.tolist() if col not in categorical_cols + ['bad_flag']]"
   ]
  },
  {
   "cell_type": "code",
   "execution_count": 70,
   "id": "b3d00051",
   "metadata": {},
   "outputs": [],
   "source": [
    "from sklearn.preprocessing import StandardScaler\n",
    "\n",
    "ss = StandardScaler()\n",
    "std = pd.DataFrame(ss.fit_transform(df[numerical_cols]), columns=numerical_cols)"
   ]
  },
  {
   "cell_type": "code",
   "execution_count": 71,
   "id": "2b379a0d",
   "metadata": {},
   "outputs": [
    {
     "data": {
      "text/html": [
       "<div>\n",
       "<style scoped>\n",
       "    .dataframe tbody tr th:only-of-type {\n",
       "        vertical-align: middle;\n",
       "    }\n",
       "\n",
       "    .dataframe tbody tr th {\n",
       "        vertical-align: top;\n",
       "    }\n",
       "\n",
       "    .dataframe thead th {\n",
       "        text-align: right;\n",
       "    }\n",
       "</style>\n",
       "<table border=\"1\" class=\"dataframe\">\n",
       "  <thead>\n",
       "    <tr style=\"text-align: right;\">\n",
       "      <th></th>\n",
       "      <th>loan_amnt</th>\n",
       "      <th>int_rate</th>\n",
       "      <th>annual_inc</th>\n",
       "      <th>dti</th>\n",
       "      <th>delinq_2yrs</th>\n",
       "      <th>inq_last_6mths</th>\n",
       "      <th>mths_since_last_delinq</th>\n",
       "      <th>open_acc</th>\n",
       "      <th>pub_rec</th>\n",
       "      <th>revol_bal</th>\n",
       "      <th>...</th>\n",
       "      <th>total_rec_late_fee</th>\n",
       "      <th>recoveries</th>\n",
       "      <th>collections_12_mths_ex_med</th>\n",
       "      <th>acc_now_delinq</th>\n",
       "      <th>tot_coll_amt</th>\n",
       "      <th>tot_cur_bal</th>\n",
       "      <th>emp_length_int</th>\n",
       "      <th>term_int</th>\n",
       "      <th>mths_since_earliest_cr_line</th>\n",
       "      <th>mths_since_issue_d</th>\n",
       "    </tr>\n",
       "  </thead>\n",
       "  <tbody>\n",
       "    <tr>\n",
       "      <th>0</th>\n",
       "      <td>-1.124392</td>\n",
       "      <td>-0.729587</td>\n",
       "      <td>-0.896551</td>\n",
       "      <td>1.328632</td>\n",
       "      <td>-0.357012</td>\n",
       "      <td>0.178920</td>\n",
       "      <td>-0.708792</td>\n",
       "      <td>-1.641166</td>\n",
       "      <td>-0.31429</td>\n",
       "      <td>-0.124888</td>\n",
       "      <td>...</td>\n",
       "      <td>-0.123464</td>\n",
       "      <td>-0.154549</td>\n",
       "      <td>-0.083608</td>\n",
       "      <td>-0.058307</td>\n",
       "      <td>-0.012089</td>\n",
       "      <td>-0.792648</td>\n",
       "      <td>1.138605</td>\n",
       "      <td>-0.616225</td>\n",
       "      <td>1.764941</td>\n",
       "      <td>1.446626</td>\n",
       "    </tr>\n",
       "    <tr>\n",
       "      <th>1</th>\n",
       "      <td>-1.426088</td>\n",
       "      <td>0.330634</td>\n",
       "      <td>-0.787387</td>\n",
       "      <td>-2.065791</td>\n",
       "      <td>-0.357012</td>\n",
       "      <td>3.843328</td>\n",
       "      <td>-0.708792</td>\n",
       "      <td>-1.641166</td>\n",
       "      <td>-0.31429</td>\n",
       "      <td>-0.703378</td>\n",
       "      <td>...</td>\n",
       "      <td>-0.123464</td>\n",
       "      <td>0.057470</td>\n",
       "      <td>-0.083608</td>\n",
       "      <td>-0.058307</td>\n",
       "      <td>-0.012089</td>\n",
       "      <td>-0.792648</td>\n",
       "      <td>-1.523744</td>\n",
       "      <td>1.622784</td>\n",
       "      <td>-0.212426</td>\n",
       "      <td>1.446626</td>\n",
       "    </tr>\n",
       "    <tr>\n",
       "      <th>2</th>\n",
       "      <td>-1.438156</td>\n",
       "      <td>0.488979</td>\n",
       "      <td>-1.110294</td>\n",
       "      <td>-1.082491</td>\n",
       "      <td>-0.357012</td>\n",
       "      <td>1.095022</td>\n",
       "      <td>-0.708792</td>\n",
       "      <td>-1.841641</td>\n",
       "      <td>-0.31429</td>\n",
       "      <td>-0.642003</td>\n",
       "      <td>...</td>\n",
       "      <td>-0.123464</td>\n",
       "      <td>-0.154549</td>\n",
       "      <td>-0.083608</td>\n",
       "      <td>-0.058307</td>\n",
       "      <td>-0.012089</td>\n",
       "      <td>-0.792648</td>\n",
       "      <td>1.138605</td>\n",
       "      <td>-0.616225</td>\n",
       "      <td>-0.570896</td>\n",
       "      <td>1.446626</td>\n",
       "    </tr>\n",
       "    <tr>\n",
       "      <th>3</th>\n",
       "      <td>-0.521001</td>\n",
       "      <td>-0.077850</td>\n",
       "      <td>-0.438063</td>\n",
       "      <td>0.354248</td>\n",
       "      <td>-0.357012</td>\n",
       "      <td>0.178920</td>\n",
       "      <td>0.860811</td>\n",
       "      <td>-0.237839</td>\n",
       "      <td>-0.31429</td>\n",
       "      <td>-0.514224</td>\n",
       "      <td>...</td>\n",
       "      <td>3.099264</td>\n",
       "      <td>-0.154549</td>\n",
       "      <td>-0.083608</td>\n",
       "      <td>-0.058307</td>\n",
       "      <td>-0.012089</td>\n",
       "      <td>-0.792648</td>\n",
       "      <td>1.138605</td>\n",
       "      <td>-0.616225</td>\n",
       "      <td>0.226989</td>\n",
       "      <td>1.446626</td>\n",
       "    </tr>\n",
       "    <tr>\n",
       "      <th>4</th>\n",
       "      <td>-1.365749</td>\n",
       "      <td>-0.261438</td>\n",
       "      <td>0.122311</td>\n",
       "      <td>0.091865</td>\n",
       "      <td>-0.357012</td>\n",
       "      <td>-0.737182</td>\n",
       "      <td>0.991612</td>\n",
       "      <td>0.764538</td>\n",
       "      <td>-0.31429</td>\n",
       "      <td>0.558748</td>\n",
       "      <td>...</td>\n",
       "      <td>-0.123464</td>\n",
       "      <td>-0.154549</td>\n",
       "      <td>-0.083608</td>\n",
       "      <td>-0.058307</td>\n",
       "      <td>-0.012089</td>\n",
       "      <td>-0.792648</td>\n",
       "      <td>-1.257509</td>\n",
       "      <td>1.622784</td>\n",
       "      <td>0.238553</td>\n",
       "      <td>1.446626</td>\n",
       "    </tr>\n",
       "  </tbody>\n",
       "</table>\n",
       "<p>5 rows × 23 columns</p>\n",
       "</div>"
      ],
      "text/plain": [
       "   loan_amnt  int_rate  annual_inc       dti  delinq_2yrs  inq_last_6mths  \\\n",
       "0  -1.124392 -0.729587   -0.896551  1.328632    -0.357012        0.178920   \n",
       "1  -1.426088  0.330634   -0.787387 -2.065791    -0.357012        3.843328   \n",
       "2  -1.438156  0.488979   -1.110294 -1.082491    -0.357012        1.095022   \n",
       "3  -0.521001 -0.077850   -0.438063  0.354248    -0.357012        0.178920   \n",
       "4  -1.365749 -0.261438    0.122311  0.091865    -0.357012       -0.737182   \n",
       "\n",
       "   mths_since_last_delinq  open_acc  pub_rec  revol_bal  ...  \\\n",
       "0               -0.708792 -1.641166 -0.31429  -0.124888  ...   \n",
       "1               -0.708792 -1.641166 -0.31429  -0.703378  ...   \n",
       "2               -0.708792 -1.841641 -0.31429  -0.642003  ...   \n",
       "3                0.860811 -0.237839 -0.31429  -0.514224  ...   \n",
       "4                0.991612  0.764538 -0.31429   0.558748  ...   \n",
       "\n",
       "   total_rec_late_fee  recoveries  collections_12_mths_ex_med  acc_now_delinq  \\\n",
       "0           -0.123464   -0.154549                   -0.083608       -0.058307   \n",
       "1           -0.123464    0.057470                   -0.083608       -0.058307   \n",
       "2           -0.123464   -0.154549                   -0.083608       -0.058307   \n",
       "3            3.099264   -0.154549                   -0.083608       -0.058307   \n",
       "4           -0.123464   -0.154549                   -0.083608       -0.058307   \n",
       "\n",
       "   tot_coll_amt  tot_cur_bal  emp_length_int  term_int  \\\n",
       "0     -0.012089    -0.792648        1.138605 -0.616225   \n",
       "1     -0.012089    -0.792648       -1.523744  1.622784   \n",
       "2     -0.012089    -0.792648        1.138605 -0.616225   \n",
       "3     -0.012089    -0.792648        1.138605 -0.616225   \n",
       "4     -0.012089    -0.792648       -1.257509  1.622784   \n",
       "\n",
       "   mths_since_earliest_cr_line  mths_since_issue_d  \n",
       "0                     1.764941            1.446626  \n",
       "1                    -0.212426            1.446626  \n",
       "2                    -0.570896            1.446626  \n",
       "3                     0.226989            1.446626  \n",
       "4                     0.238553            1.446626  \n",
       "\n",
       "[5 rows x 23 columns]"
      ]
     },
     "execution_count": 71,
     "metadata": {},
     "output_type": "execute_result"
    }
   ],
   "source": [
    "std.head()"
   ]
  },
  {
   "cell_type": "markdown",
   "id": "62cb10eb",
   "metadata": {},
   "source": [
    "#### Transformed DataFrame"
   ]
  },
  {
   "cell_type": "markdown",
   "id": "88e3f134",
   "metadata": {},
   "source": [
    "Recombine the transformed columns"
   ]
  },
  {
   "cell_type": "code",
   "execution_count": 72,
   "id": "6c577cd5",
   "metadata": {},
   "outputs": [],
   "source": [
    "data_model = pd.concat([onehot, std, df[['bad_flag']]], axis=1)"
   ]
  },
  {
   "cell_type": "markdown",
   "id": "65fe4d09",
   "metadata": {},
   "source": [
    "## Model Building"
   ]
  },
  {
   "cell_type": "markdown",
   "id": "8df410f8",
   "metadata": {},
   "source": [
    "#### Supervised Learning\n",
    "- Classification, namely the type of supervised learning where the data type of the variable\n",
    "label/target is discrete.\n",
    "\n",
    "    When the variable label/target is discrete, it means that it can only take on a limited number of values that are distinct and separate from each other, such as categories or labels. Examples of discrete variables include gender (male/female), eye color (blue/brown/green), and type of fruit (apple/orange/banana).\n",
    "    \n",
    "\n",
    "- Regression, which is a type of supervised learning where the data type of the variable\n",
    "label/target is continuous numeric.\n",
    "\n",
    "    On the other hand, when the variable label/target is continuous numeric, it means that it can take on any value within a range of possible values, typically represented by a decimal or fraction. Examples of continuous numeric variables include height (in centimeters or inches), weight (in kilograms or pounds), and temperature (in Celsius or Fahrenheit).\n",
    "\n",
    "\n",
    "\n"
   ]
  },
  {
   "cell_type": "markdown",
   "id": "e2dc3c06",
   "metadata": {},
   "source": [
    "#### Algoritma Supervised Learning\n",
    "\n",
    "* Decision Tree\n",
    "* K-Nearest Neighbors (KNN)\n",
    "* Logistic Regression (For Classification)\n",
    "* Linear Regression (For Regression)\n",
    "* Random Forest\n",
    "* Support Vector Machine (SVM)\n",
    "* XGBoost"
   ]
  },
  {
   "cell_type": "markdown",
   "id": "9a00e73d",
   "metadata": {},
   "source": [
    "### Train-Test Split"
   ]
  },
  {
   "cell_type": "code",
   "execution_count": 73,
   "id": "fe6c2088",
   "metadata": {},
   "outputs": [],
   "source": [
    "from sklearn.model_selection import train_test_split"
   ]
  },
  {
   "cell_type": "code",
   "execution_count": 74,
   "id": "f5eb1965",
   "metadata": {},
   "outputs": [],
   "source": [
    "X = data_model.drop('bad_flag', axis=1)\n",
    "y = data_model['bad_flag']\n",
    "\n",
    "X_train, X_test, y_train, y_test = train_test_split(X, y, test_size=0.2, random_state=42)"
   ]
  },
  {
   "cell_type": "code",
   "execution_count": 75,
   "id": "21f95e5e",
   "metadata": {},
   "outputs": [
    {
     "data": {
      "text/plain": [
       "((373028, 99), (93257, 99))"
      ]
     },
     "execution_count": 75,
     "metadata": {},
     "output_type": "execute_result"
    }
   ],
   "source": [
    "X_train.shape, X_test.shape"
   ]
  },
  {
   "cell_type": "markdown",
   "id": "35765602",
   "metadata": {},
   "source": [
    "### Training"
   ]
  },
  {
   "cell_type": "markdown",
   "id": "6058aa01",
   "metadata": {},
   "source": [
    "### Random Forest"
   ]
  },
  {
   "cell_type": "code",
   "execution_count": 76,
   "id": "6a60fcd1",
   "metadata": {},
   "outputs": [],
   "source": [
    "from sklearn.ensemble import RandomForestClassifier"
   ]
  },
  {
   "cell_type": "code",
   "execution_count": 77,
   "id": "55c3dbd1",
   "metadata": {
    "scrolled": true
   },
   "outputs": [
    {
     "data": {
      "text/html": [
       "<style>#sk-container-id-1 {color: black;background-color: white;}#sk-container-id-1 pre{padding: 0;}#sk-container-id-1 div.sk-toggleable {background-color: white;}#sk-container-id-1 label.sk-toggleable__label {cursor: pointer;display: block;width: 100%;margin-bottom: 0;padding: 0.3em;box-sizing: border-box;text-align: center;}#sk-container-id-1 label.sk-toggleable__label-arrow:before {content: \"▸\";float: left;margin-right: 0.25em;color: #696969;}#sk-container-id-1 label.sk-toggleable__label-arrow:hover:before {color: black;}#sk-container-id-1 div.sk-estimator:hover label.sk-toggleable__label-arrow:before {color: black;}#sk-container-id-1 div.sk-toggleable__content {max-height: 0;max-width: 0;overflow: hidden;text-align: left;background-color: #f0f8ff;}#sk-container-id-1 div.sk-toggleable__content pre {margin: 0.2em;color: black;border-radius: 0.25em;background-color: #f0f8ff;}#sk-container-id-1 input.sk-toggleable__control:checked~div.sk-toggleable__content {max-height: 200px;max-width: 100%;overflow: auto;}#sk-container-id-1 input.sk-toggleable__control:checked~label.sk-toggleable__label-arrow:before {content: \"▾\";}#sk-container-id-1 div.sk-estimator input.sk-toggleable__control:checked~label.sk-toggleable__label {background-color: #d4ebff;}#sk-container-id-1 div.sk-label input.sk-toggleable__control:checked~label.sk-toggleable__label {background-color: #d4ebff;}#sk-container-id-1 input.sk-hidden--visually {border: 0;clip: rect(1px 1px 1px 1px);clip: rect(1px, 1px, 1px, 1px);height: 1px;margin: -1px;overflow: hidden;padding: 0;position: absolute;width: 1px;}#sk-container-id-1 div.sk-estimator {font-family: monospace;background-color: #f0f8ff;border: 1px dotted black;border-radius: 0.25em;box-sizing: border-box;margin-bottom: 0.5em;}#sk-container-id-1 div.sk-estimator:hover {background-color: #d4ebff;}#sk-container-id-1 div.sk-parallel-item::after {content: \"\";width: 100%;border-bottom: 1px solid gray;flex-grow: 1;}#sk-container-id-1 div.sk-label:hover label.sk-toggleable__label {background-color: #d4ebff;}#sk-container-id-1 div.sk-serial::before {content: \"\";position: absolute;border-left: 1px solid gray;box-sizing: border-box;top: 0;bottom: 0;left: 50%;z-index: 0;}#sk-container-id-1 div.sk-serial {display: flex;flex-direction: column;align-items: center;background-color: white;padding-right: 0.2em;padding-left: 0.2em;position: relative;}#sk-container-id-1 div.sk-item {position: relative;z-index: 1;}#sk-container-id-1 div.sk-parallel {display: flex;align-items: stretch;justify-content: center;background-color: white;position: relative;}#sk-container-id-1 div.sk-item::before, #sk-container-id-1 div.sk-parallel-item::before {content: \"\";position: absolute;border-left: 1px solid gray;box-sizing: border-box;top: 0;bottom: 0;left: 50%;z-index: -1;}#sk-container-id-1 div.sk-parallel-item {display: flex;flex-direction: column;z-index: 1;position: relative;background-color: white;}#sk-container-id-1 div.sk-parallel-item:first-child::after {align-self: flex-end;width: 50%;}#sk-container-id-1 div.sk-parallel-item:last-child::after {align-self: flex-start;width: 50%;}#sk-container-id-1 div.sk-parallel-item:only-child::after {width: 0;}#sk-container-id-1 div.sk-dashed-wrapped {border: 1px dashed gray;margin: 0 0.4em 0.5em 0.4em;box-sizing: border-box;padding-bottom: 0.4em;background-color: white;}#sk-container-id-1 div.sk-label label {font-family: monospace;font-weight: bold;display: inline-block;line-height: 1.2em;}#sk-container-id-1 div.sk-label-container {text-align: center;}#sk-container-id-1 div.sk-container {/* jupyter's `normalize.less` sets `[hidden] { display: none; }` but bootstrap.min.css set `[hidden] { display: none !important; }` so we also need the `!important` here to be able to override the default hidden behavior on the sphinx rendered scikit-learn.org. See: https://github.com/scikit-learn/scikit-learn/issues/21755 */display: inline-block !important;position: relative;}#sk-container-id-1 div.sk-text-repr-fallback {display: none;}</style><div id=\"sk-container-id-1\" class=\"sk-top-container\"><div class=\"sk-text-repr-fallback\"><pre>RandomForestClassifier(max_depth=4)</pre><b>In a Jupyter environment, please rerun this cell to show the HTML representation or trust the notebook. <br />On GitHub, the HTML representation is unable to render, please try loading this page with nbviewer.org.</b></div><div class=\"sk-container\" hidden><div class=\"sk-item\"><div class=\"sk-estimator sk-toggleable\"><input class=\"sk-toggleable__control sk-hidden--visually\" id=\"sk-estimator-id-1\" type=\"checkbox\" checked><label for=\"sk-estimator-id-1\" class=\"sk-toggleable__label sk-toggleable__label-arrow\">RandomForestClassifier</label><div class=\"sk-toggleable__content\"><pre>RandomForestClassifier(max_depth=4)</pre></div></div></div></div></div>"
      ],
      "text/plain": [
       "RandomForestClassifier(max_depth=4)"
      ]
     },
     "execution_count": 77,
     "metadata": {},
     "output_type": "execute_result"
    }
   ],
   "source": [
    "rfc = RandomForestClassifier(max_depth=4)\n",
    "rfc.fit(X_train,y_train)"
   ]
  },
  {
   "cell_type": "markdown",
   "id": "8548eb4e",
   "metadata": {},
   "source": [
    "#### Feature Importance "
   ]
  },
  {
   "cell_type": "markdown",
   "id": "b5407233",
   "metadata": {},
   "source": [
    "Feature Importance is a measure used to evaluate the importance of each feature in a machine learning model to the results of prediction of target variables. Feature Importance is used to find out how much influence each feature has on the prediction results, so that we can choose the most influential or relevant features to use in predicting the target variable."
   ]
  },
  {
   "cell_type": "code",
   "execution_count": 78,
   "id": "942c03e2",
   "metadata": {},
   "outputs": [
    {
     "data": {
      "text/html": [
       "<div>\n",
       "<style scoped>\n",
       "    .dataframe tbody tr th:only-of-type {\n",
       "        vertical-align: middle;\n",
       "    }\n",
       "\n",
       "    .dataframe tbody tr th {\n",
       "        vertical-align: top;\n",
       "    }\n",
       "\n",
       "    .dataframe thead th {\n",
       "        text-align: right;\n",
       "    }\n",
       "</style>\n",
       "<table border=\"1\" class=\"dataframe\">\n",
       "  <thead>\n",
       "    <tr style=\"text-align: right;\">\n",
       "      <th></th>\n",
       "      <th>feature</th>\n",
       "      <th>importance</th>\n",
       "    </tr>\n",
       "  </thead>\n",
       "  <tbody>\n",
       "    <tr>\n",
       "      <th>90</th>\n",
       "      <td>recoveries</td>\n",
       "      <td>0.522692</td>\n",
       "    </tr>\n",
       "    <tr>\n",
       "      <th>88</th>\n",
       "      <td>out_prncp</td>\n",
       "      <td>0.171867</td>\n",
       "    </tr>\n",
       "    <tr>\n",
       "      <th>89</th>\n",
       "      <td>total_rec_late_fee</td>\n",
       "      <td>0.096363</td>\n",
       "    </tr>\n",
       "    <tr>\n",
       "      <th>77</th>\n",
       "      <td>int_rate</td>\n",
       "      <td>0.058262</td>\n",
       "    </tr>\n",
       "    <tr>\n",
       "      <th>98</th>\n",
       "      <td>mths_since_issue_d</td>\n",
       "      <td>0.026625</td>\n",
       "    </tr>\n",
       "    <tr>\n",
       "      <th>...</th>\n",
       "      <td>...</td>\n",
       "      <td>...</td>\n",
       "    </tr>\n",
       "    <tr>\n",
       "      <th>43</th>\n",
       "      <td>addr_state_LA</td>\n",
       "      <td>0.000000</td>\n",
       "    </tr>\n",
       "    <tr>\n",
       "      <th>72</th>\n",
       "      <td>addr_state_WI</td>\n",
       "      <td>0.000000</td>\n",
       "    </tr>\n",
       "    <tr>\n",
       "      <th>74</th>\n",
       "      <td>addr_state_WY</td>\n",
       "      <td>0.000000</td>\n",
       "    </tr>\n",
       "    <tr>\n",
       "      <th>37</th>\n",
       "      <td>addr_state_IA</td>\n",
       "      <td>0.000000</td>\n",
       "    </tr>\n",
       "    <tr>\n",
       "      <th>44</th>\n",
       "      <td>addr_state_MA</td>\n",
       "      <td>0.000000</td>\n",
       "    </tr>\n",
       "  </tbody>\n",
       "</table>\n",
       "<p>99 rows × 2 columns</p>\n",
       "</div>"
      ],
      "text/plain": [
       "               feature  importance\n",
       "90          recoveries    0.522692\n",
       "88           out_prncp    0.171867\n",
       "89  total_rec_late_fee    0.096363\n",
       "77            int_rate    0.058262\n",
       "98  mths_since_issue_d    0.026625\n",
       "..                 ...         ...\n",
       "43       addr_state_LA    0.000000\n",
       "72       addr_state_WI    0.000000\n",
       "74       addr_state_WY    0.000000\n",
       "37       addr_state_IA    0.000000\n",
       "44       addr_state_MA    0.000000\n",
       "\n",
       "[99 rows x 2 columns]"
      ]
     },
     "execution_count": 78,
     "metadata": {},
     "output_type": "execute_result"
    }
   ],
   "source": [
    "arr_feature_importances = rfc.feature_importances_\n",
    "arr_feature_names = X_train.columns.values\n",
    "    \n",
    "df_feature_importance = pd.DataFrame(index=range(len(arr_feature_importances)), columns=['feature', 'importance'])\n",
    "df_feature_importance['feature'] = arr_feature_names\n",
    "df_feature_importance['importance'] = arr_feature_importances\n",
    "df_all_features = df_feature_importance.sort_values(by='importance', ascending=False)\n",
    "df_all_features"
   ]
  },
  {
   "cell_type": "markdown",
   "id": "2a0ab0fd",
   "metadata": {},
   "source": [
    "#### Validation"
   ]
  },
  {
   "cell_type": "markdown",
   "id": "63e0c3aa",
   "metadata": {},
   "source": [
    "To measure model performance, AUC (Area Under the Curve) and KS (Kolmogorov-Smirnov) are evaluation metrics commonly used in risk prediction modeling and credit scoring.\n",
    "\n",
    "AUC is a measure of area under the ROC (Receiver Operating Characteristic) curve, which describes the relationship between True Positive Rate (TPR) and False Positive Rate (FPR) at various threshold values. AUC ranges between 0 and 1, where values closer to 1 indicate a better model at distinguishing between positive and negative classes. Models with an AUC value of 0.5 showed that the model was as good as random guessing, while AUC values below 0.5 showed worse performance than random guessing.\n",
    "\n",
    "KS is a measure of the maximum vertical distance between the distribution curves of positive and negative classes at various threshold values. KS measures the model's ability to distinguish between positive and negative classes at a certain threshold. KS ranges between 0 and 1, where higher values indicate a better model of distinguishing between positive and negative classes at a given threshold."
   ]
  },
  {
   "cell_type": "code",
   "execution_count": 79,
   "id": "76ba51bc",
   "metadata": {},
   "outputs": [],
   "source": [
    "y_pred_proba = rfc.predict_proba(X_test)[:][:,1]\n",
    "\n",
    "\n",
    "df_actual_predicted = pd.concat([pd.DataFrame(np.array(y_test),columns=['y_actual']),pd.DataFrame(y_pred_proba,columns=['y_pred_proba'])],axis=1)\n",
    "df_actual_predicted.index = y_test.index"
   ]
  },
  {
   "cell_type": "markdown",
   "id": "655680a9",
   "metadata": {},
   "source": [
    "#### AUC"
   ]
  },
  {
   "cell_type": "code",
   "execution_count": 80,
   "id": "73a80f83",
   "metadata": {},
   "outputs": [],
   "source": [
    "from sklearn.metrics import roc_curve, roc_auc_score"
   ]
  },
  {
   "cell_type": "code",
   "execution_count": 81,
   "id": "9cd98c52",
   "metadata": {},
   "outputs": [
    {
     "data": {
      "text/plain": [
       "<matplotlib.legend.Legend at 0x1e5149a2160>"
      ]
     },
     "execution_count": 81,
     "metadata": {},
     "output_type": "execute_result"
    },
    {
     "data": {
      "image/png": "[encoded data removed]",
      "text/plain": [
       "<Figure size 432x288 with 1 Axes>"
      ]
     },
     "metadata": {
      "needs_background": "light"
     },
     "output_type": "display_data"
    }
   ],
   "source": [
    "fpr, tpr, tr = roc_curve(df_actual_predicted['y_actual'], df_actual_predicted['y_pred_proba'])\n",
    "auc = roc_auc_score(df_actual_predicted['y_actual'], df_actual_predicted['y_pred_proba'])\n",
    "\n",
    "plt.plot(fpr, tpr, label='AUC = %0.4f' %auc)\n",
    "plt.plot(fpr, fpr, linestyle = '--', color='k')\n",
    "plt.xlabel('False Positive Rate')\n",
    "plt.ylabel('True Positive Rate')\n",
    "plt.title('ROC Curve')\n",
    "plt.legend()"
   ]
  },
  {
   "cell_type": "markdown",
   "id": "c0415d60",
   "metadata": {},
   "source": [
    "#### KS"
   ]
  },
  {
   "cell_type": "code",
   "execution_count": 82,
   "id": "2dae2bd0",
   "metadata": {},
   "outputs": [],
   "source": [
    "df_actual_predicted = df_actual_predicted.sort_values('y_pred_proba')\n",
    "df_actual_predicted = df_actual_predicted.reset_index()\n",
    "\n",
    "df_actual_predicted['Cumulative N Population'] = df_actual_predicted.index + 1\n",
    "df_actual_predicted['Cumulative N Bad'] = df_actual_predicted['y_actual'].cumsum()\n",
    "df_actual_predicted['Cumulative N Good'] = df_actual_predicted['Cumulative N Population'] - df_actual_predicted['Cumulative N Bad']\n",
    "df_actual_predicted['Cumulative Perc Population'] = df_actual_predicted['Cumulative N Population'] / df_actual_predicted.shape[0]\n",
    "df_actual_predicted['Cumulative Perc Bad'] = df_actual_predicted['Cumulative N Bad'] / df_actual_predicted['y_actual'].sum()\n",
    "df_actual_predicted['Cumulative Perc Good'] = df_actual_predicted['Cumulative N Good'] / (df_actual_predicted.shape[0] - df_actual_predicted['y_actual'].sum())"
   ]
  },
  {
   "cell_type": "code",
   "execution_count": 83,
   "id": "3f6177b1",
   "metadata": {
    "scrolled": true
   },
   "outputs": [
    {
     "data": {
      "text/html": [
       "<div>\n",
       "<style scoped>\n",
       "    .dataframe tbody tr th:only-of-type {\n",
       "        vertical-align: middle;\n",
       "    }\n",
       "\n",
       "    .dataframe tbody tr th {\n",
       "        vertical-align: top;\n",
       "    }\n",
       "\n",
       "    .dataframe thead th {\n",
       "        text-align: right;\n",
       "    }\n",
       "</style>\n",
       "<table border=\"1\" class=\"dataframe\">\n",
       "  <thead>\n",
       "    <tr style=\"text-align: right;\">\n",
       "      <th></th>\n",
       "      <th>index</th>\n",
       "      <th>y_actual</th>\n",
       "      <th>y_pred_proba</th>\n",
       "      <th>Cumulative N Population</th>\n",
       "      <th>Cumulative N Bad</th>\n",
       "      <th>Cumulative N Good</th>\n",
       "      <th>Cumulative Perc Population</th>\n",
       "      <th>Cumulative Perc Bad</th>\n",
       "      <th>Cumulative Perc Good</th>\n",
       "    </tr>\n",
       "  </thead>\n",
       "  <tbody>\n",
       "    <tr>\n",
       "      <th>0</th>\n",
       "      <td>373106</td>\n",
       "      <td>0</td>\n",
       "      <td>0.047982</td>\n",
       "      <td>1</td>\n",
       "      <td>0</td>\n",
       "      <td>1</td>\n",
       "      <td>0.000011</td>\n",
       "      <td>0.0</td>\n",
       "      <td>0.000012</td>\n",
       "    </tr>\n",
       "    <tr>\n",
       "      <th>1</th>\n",
       "      <td>381739</td>\n",
       "      <td>0</td>\n",
       "      <td>0.048038</td>\n",
       "      <td>2</td>\n",
       "      <td>0</td>\n",
       "      <td>2</td>\n",
       "      <td>0.000021</td>\n",
       "      <td>0.0</td>\n",
       "      <td>0.000024</td>\n",
       "    </tr>\n",
       "    <tr>\n",
       "      <th>2</th>\n",
       "      <td>401133</td>\n",
       "      <td>0</td>\n",
       "      <td>0.048438</td>\n",
       "      <td>3</td>\n",
       "      <td>0</td>\n",
       "      <td>3</td>\n",
       "      <td>0.000032</td>\n",
       "      <td>0.0</td>\n",
       "      <td>0.000036</td>\n",
       "    </tr>\n",
       "    <tr>\n",
       "      <th>3</th>\n",
       "      <td>372608</td>\n",
       "      <td>0</td>\n",
       "      <td>0.048544</td>\n",
       "      <td>4</td>\n",
       "      <td>0</td>\n",
       "      <td>4</td>\n",
       "      <td>0.000043</td>\n",
       "      <td>0.0</td>\n",
       "      <td>0.000048</td>\n",
       "    </tr>\n",
       "    <tr>\n",
       "      <th>4</th>\n",
       "      <td>271774</td>\n",
       "      <td>0</td>\n",
       "      <td>0.048552</td>\n",
       "      <td>5</td>\n",
       "      <td>0</td>\n",
       "      <td>5</td>\n",
       "      <td>0.000054</td>\n",
       "      <td>0.0</td>\n",
       "      <td>0.000060</td>\n",
       "    </tr>\n",
       "  </tbody>\n",
       "</table>\n",
       "</div>"
      ],
      "text/plain": [
       "    index  y_actual  y_pred_proba  Cumulative N Population  Cumulative N Bad  \\\n",
       "0  373106         0      0.047982                        1                 0   \n",
       "1  381739         0      0.048038                        2                 0   \n",
       "2  401133         0      0.048438                        3                 0   \n",
       "3  372608         0      0.048544                        4                 0   \n",
       "4  271774         0      0.048552                        5                 0   \n",
       "\n",
       "   Cumulative N Good  Cumulative Perc Population  Cumulative Perc Bad  \\\n",
       "0                  1                    0.000011                  0.0   \n",
       "1                  2                    0.000021                  0.0   \n",
       "2                  3                    0.000032                  0.0   \n",
       "3                  4                    0.000043                  0.0   \n",
       "4                  5                    0.000054                  0.0   \n",
       "\n",
       "   Cumulative Perc Good  \n",
       "0              0.000012  \n",
       "1              0.000024  \n",
       "2              0.000036  \n",
       "3              0.000048  \n",
       "4              0.000060  "
      ]
     },
     "execution_count": 83,
     "metadata": {},
     "output_type": "execute_result"
    }
   ],
   "source": [
    "df_actual_predicted.head()"
   ]
  },
  {
   "cell_type": "code",
   "execution_count": 84,
   "id": "2c69e4dc",
   "metadata": {
    "scrolled": true
   },
   "outputs": [
    {
     "data": {
      "text/plain": [
       "Text(0.5, 1.0, 'Kolmogorov-Smirnov : 0.5621')"
      ]
     },
     "execution_count": 84,
     "metadata": {},
     "output_type": "execute_result"
    },
    {
     "data": {
      "image/png": "[encoded data removed]",
      "text/plain": [
       "<Figure size 432x288 with 1 Axes>"
      ]
     },
     "metadata": {
      "needs_background": "light"
     },
     "output_type": "display_data"
    }
   ],
   "source": [
    "KS = max(df_actual_predicted['Cumulative Perc Good'] - df_actual_predicted['Cumulative Perc Bad'])\n",
    "\n",
    "plt.plot(df_actual_predicted['y_pred_proba'], df_actual_predicted['Cumulative Perc Bad'], color='r')\n",
    "plt.plot(df_actual_predicted['y_pred_proba'], df_actual_predicted['Cumulative Perc Good'], color='b')\n",
    "plt.xlabel('Estimated Probability for Being Bad')\n",
    "plt.ylabel('Cumulative %')\n",
    "plt.title('Kolmogorov-Smirnov : %.04f' %KS)\n"
   ]
  },
  {
   "cell_type": "markdown",
   "id": "8c9e657d",
   "metadata": {},
   "source": [
    "#### Model Evaluation"
   ]
  },
  {
   "cell_type": "markdown",
   "id": "189a6886",
   "metadata": {},
   "source": [
    "The built model produces AUC = 0.857 and KS = 0.56 performance. In the world of credit risk modeling, generally AUC above 0.7 and KS above 0.3 is considered good performance."
   ]
  }
 ],
 "metadata": {
  "kernelspec": {
   "display_name": "Python 3 (ipykernel)",
   "language": "python",
   "name": "python3"
  },
  "language_info": {
   "codemirror_mode": {
    "name": "ipython",
    "version": 3
   },
   "file_extension": ".py",
   "mimetype": "text/x-python",
   "name": "python",
   "nbconvert_exporter": "python",
   "pygments_lexer": "ipython3",
   "version": "3.9.7"
  }
 },
 "nbformat": 4,
 "nbformat_minor": 5
}
